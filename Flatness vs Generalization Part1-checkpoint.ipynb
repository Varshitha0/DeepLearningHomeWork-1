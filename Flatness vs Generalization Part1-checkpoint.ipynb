{
 "cells": [
  {
   "cell_type": "code",
   "execution_count": 1,
   "id": "b9b6dc9d",
   "metadata": {},
   "outputs": [],
   "source": [
    "import torch\n",
    "import torch.nn as nn\n",
    "import torch.nn.functional as F\n",
    "from torch.utils.data import DataLoader\n",
    "from torchvision import datasets, transforms\n",
    "\n",
    "import numpy as np\n",
    "import matplotlib.pyplot as plt\n",
    "%matplotlib inline"
   ]
  },
  {
   "cell_type": "code",
   "execution_count": 2,
   "id": "e18b41eb",
   "metadata": {},
   "outputs": [],
   "source": [
    "transform = transforms.ToTensor()"
   ]
  },
  {
   "cell_type": "code",
   "execution_count": 3,
   "id": "9e4219f9",
   "metadata": {},
   "outputs": [],
   "source": [
    "train_data_set = datasets.MNIST(root='C:\\\\Users\\\\varsh\\\\dataset\\\\mnist_train', train=True, download=True, transform=transform)\n",
    "test_data_set = datasets.MNIST(root='C:\\\\Users\\\\varsh\\\\dataset\\\\mnist_test', train=False, download=True, transform=transform)"
   ]
  },
  {
   "cell_type": "code",
   "execution_count": 4,
   "id": "ecb81b56",
   "metadata": {},
   "outputs": [
    {
     "data": {
      "text/plain": [
       "Dataset MNIST\n",
       "    Number of datapoints: 60000\n",
       "    Root location: C:\\Users\\varsh\\dataset\\mnist_train\n",
       "    Split: Train\n",
       "    StandardTransform\n",
       "Transform: ToTensor()"
      ]
     },
     "execution_count": 4,
     "metadata": {},
     "output_type": "execute_result"
    }
   ],
   "source": [
    "train_data_set"
   ]
  },
  {
   "cell_type": "code",
   "execution_count": 5,
   "id": "b154d153",
   "metadata": {},
   "outputs": [
    {
     "data": {
      "text/plain": [
       "Dataset MNIST\n",
       "    Number of datapoints: 10000\n",
       "    Root location: C:\\Users\\varsh\\dataset\\mnist_test\n",
       "    Split: Test\n",
       "    StandardTransform\n",
       "Transform: ToTensor()"
      ]
     },
     "execution_count": 5,
     "metadata": {},
     "output_type": "execute_result"
    }
   ],
   "source": [
    "test_data_set"
   ]
  },
  {
   "cell_type": "code",
   "execution_count": 6,
   "id": "a130ff17",
   "metadata": {},
   "outputs": [],
   "source": [
    "batch_sizes = [64,1024]\n",
    "train_loader1 = DataLoader(train_data_set, batch_size=batch_sizes[0], shuffle=True)\n",
    "test_loader1 = DataLoader(test_data_set, batch_size=batch_sizes[0], shuffle=True)\n",
    "\n",
    "train_loader2 = DataLoader(train_data_set, batch_size=batch_sizes[1], shuffle=True)\n",
    "test_loader2 = DataLoader(test_data_set, batch_size=batch_sizes[1], shuffle=True)"
   ]
  },
  {
   "cell_type": "code",
   "execution_count": 7,
   "id": "cea0fb62",
   "metadata": {},
   "outputs": [],
   "source": [
    "def CalcParams(model):\n",
    "    val = sum(params.numel() for params in model.parameters() if params.requires_grad)\n",
    "    return val"
   ]
  },
  {
   "cell_type": "code",
   "execution_count": null,
   "id": "7f022b39",
   "metadata": {},
   "outputs": [],
   "source": []
  },
  {
   "cell_type": "code",
   "execution_count": 8,
   "id": "7fbb632e",
   "metadata": {},
   "outputs": [],
   "source": [
    "###############################################   MODEL 1   ####################################################################"
   ]
  },
  {
   "cell_type": "code",
   "execution_count": null,
   "id": "ebf719fc",
   "metadata": {},
   "outputs": [],
   "source": []
  },
  {
   "cell_type": "code",
   "execution_count": 9,
   "id": "727ad4b9",
   "metadata": {},
   "outputs": [],
   "source": [
    "class Model1(nn.Module):\n",
    "    def __init__(self, i=784, z2=20, z3=40, o=10):\n",
    "        super().__init__()\n",
    "        self.fc1 = nn.Linear(i,z2)    \n",
    "        self.fc2 = nn.Linear(z2, z3)\n",
    "        self.out = nn.Linear(z3, o)\n",
    "        \n",
    "        \n",
    "    def forward(self, x):\n",
    "        x = F.relu(self.fc1(x))\n",
    "        x = F.relu(self.fc2(x))\n",
    "        x = self.out(x)\n",
    "        return x"
   ]
  },
  {
   "cell_type": "code",
   "execution_count": 10,
   "id": "a0efa2a2",
   "metadata": {},
   "outputs": [],
   "source": [
    "model1=Model1()"
   ]
  },
  {
   "cell_type": "code",
   "execution_count": 11,
   "id": "0fed4b6f",
   "metadata": {},
   "outputs": [
    {
     "name": "stdout",
     "output_type": "stream",
     "text": [
      "16950\n"
     ]
    }
   ],
   "source": [
    "model1params=CalcParams(model1)\n",
    "print(model1params)"
   ]
  },
  {
   "cell_type": "code",
   "execution_count": 12,
   "id": "ea55a682",
   "metadata": {},
   "outputs": [],
   "source": [
    "crit_loss1 = nn.CrossEntropyLoss()"
   ]
  },
  {
   "cell_type": "code",
   "execution_count": 13,
   "id": "b128ef94",
   "metadata": {},
   "outputs": [],
   "source": [
    "optim1 = torch.optim.Adam(model1.parameters(), lr=0.001)"
   ]
  },
  {
   "cell_type": "code",
   "execution_count": 14,
   "id": "b24d9185",
   "metadata": {},
   "outputs": [],
   "source": [
    "epochs = 10\n",
    "train_correct_mod1 = []\n",
    "test_correct_mod1 = []\n",
    "train_losses_mod1=[]\n",
    "test_losses_mod1=[]\n",
    "for i in range(epochs):\n",
    "    train_corr = 0\n",
    "    test_corr = 0\n",
    "    for b, (X_train, y_train) in enumerate(train_loader1):\n",
    "       \n",
    "        y_pred = model1(X_train.view(-1,784))  \n",
    "        trn_loss = crit_loss1(y_pred, y_train)\n",
    "\n",
    "        predicted = torch.max(y_pred.data, 1)[1]\n",
    "        batch_corr = (predicted == y_train).sum()\n",
    "        train_corr += batch_corr\n",
    "        \n",
    "        optim1.zero_grad()\n",
    "        trn_loss.backward()\n",
    "        optim1.step()\n",
    "        \n",
    "    train_losses_mod1.append(trn_loss)\n",
    "    train_correct_mod1.append(train_corr)\n",
    "        \n",
    "    with torch.no_grad():\n",
    "        for b, (X_test, y_test) in enumerate(test_loader1):\n",
    "\n",
    "            y_val = model1(X_test.view(-1,784)) \n",
    "\n",
    "            predicted = torch.max(y_val.data, 1)[1] \n",
    "            test_corr += (predicted == y_test).sum()\n",
    "    \n",
    "    test_loss = crit_loss1(y_val, y_test)\n",
    "    test_losses_mod1.append(test_loss)\n",
    "    test_correct_mod1.append(test_corr)  "
   ]
  },
  {
   "cell_type": "code",
   "execution_count": 15,
   "id": "d538ae21",
   "metadata": {},
   "outputs": [],
   "source": [
    "train_loss_list=[]"
   ]
  },
  {
   "cell_type": "code",
   "execution_count": 16,
   "id": "8e97afc7",
   "metadata": {},
   "outputs": [],
   "source": [
    "for i in range(len(train_losses_mod1)):\n",
    "     train_loss_list.append(train_losses_mod1[i].detach().numpy())"
   ]
  },
  {
   "cell_type": "code",
   "execution_count": 17,
   "id": "4599e3eb",
   "metadata": {},
   "outputs": [],
   "source": [
    "test_loss_list=[]"
   ]
  },
  {
   "cell_type": "code",
   "execution_count": 18,
   "id": "e3c95410",
   "metadata": {},
   "outputs": [],
   "source": [
    "for i in range(len(test_losses_mod1)):\n",
    "     test_loss_list.append(test_losses_mod1[i].detach().numpy())"
   ]
  },
  {
   "cell_type": "code",
   "execution_count": 19,
   "id": "3c5eebb2",
   "metadata": {},
   "outputs": [],
   "source": [
    "train_accuracy_list=[]"
   ]
  },
  {
   "cell_type": "code",
   "execution_count": 20,
   "id": "98eed812",
   "metadata": {},
   "outputs": [],
   "source": [
    "for i in range(len(train_correct_mod1)):\n",
    "     train_accuracy_list.append(train_correct_mod1[i].detach().numpy()/600)"
   ]
  },
  {
   "cell_type": "code",
   "execution_count": 21,
   "id": "023798a2",
   "metadata": {},
   "outputs": [],
   "source": [
    "test_accuracy_list=[]"
   ]
  },
  {
   "cell_type": "code",
   "execution_count": 22,
   "id": "40889da5",
   "metadata": {},
   "outputs": [],
   "source": [
    "for i in range(len(test_correct_mod1)):\n",
    "     test_accuracy_list.append(test_correct_mod1[i].detach().numpy()/100)"
   ]
  },
  {
   "cell_type": "code",
   "execution_count": null,
   "id": "8752859a",
   "metadata": {},
   "outputs": [],
   "source": []
  },
  {
   "cell_type": "code",
   "execution_count": 23,
   "id": "547c18ec",
   "metadata": {},
   "outputs": [],
   "source": [
    "###########################################  MODEL 2 1024  #####################################################################"
   ]
  },
  {
   "cell_type": "code",
   "execution_count": null,
   "id": "a50a23ae",
   "metadata": {},
   "outputs": [],
   "source": []
  },
  {
   "cell_type": "code",
   "execution_count": 24,
   "id": "9bbf91f1",
   "metadata": {},
   "outputs": [],
   "source": [
    "class Model2(nn.Module):\n",
    "    def __init__(self, in_features=784, h2=20, h3=40, out_features=10):\n",
    "        super().__init__()\n",
    "        self.fc1 = nn.Linear(in_features,h2)    \n",
    "        self.fc2 = nn.Linear(h2, h3)\n",
    "        self.out = nn.Linear(h3, out_features)\n",
    "        \n",
    "    def forward(self, x):\n",
    "        x = F.relu(self.fc1(x))\n",
    "        x = F.relu(self.fc2(x))\n",
    "        x = self.out(x)\n",
    "        return x"
   ]
  },
  {
   "cell_type": "code",
   "execution_count": 25,
   "id": "0e7a1bad",
   "metadata": {},
   "outputs": [],
   "source": [
    "model2=Model2()"
   ]
  },
  {
   "cell_type": "code",
   "execution_count": 26,
   "id": "22b63d97",
   "metadata": {},
   "outputs": [
    {
     "name": "stdout",
     "output_type": "stream",
     "text": [
      "16950\n"
     ]
    }
   ],
   "source": [
    "model2params=CalcParams(model2)\n",
    "print(model2params)"
   ]
  },
  {
   "cell_type": "code",
   "execution_count": 27,
   "id": "100d0618",
   "metadata": {},
   "outputs": [
    {
     "data": {
      "text/plain": [
       "Model2(\n",
       "  (fc1): Linear(in_features=784, out_features=20, bias=True)\n",
       "  (fc2): Linear(in_features=20, out_features=40, bias=True)\n",
       "  (out): Linear(in_features=40, out_features=10, bias=True)\n",
       ")"
      ]
     },
     "execution_count": 27,
     "metadata": {},
     "output_type": "execute_result"
    }
   ],
   "source": [
    "model2"
   ]
  },
  {
   "cell_type": "code",
   "execution_count": 28,
   "id": "f7e7099c",
   "metadata": {},
   "outputs": [],
   "source": [
    "crit_loss2 = nn.CrossEntropyLoss()"
   ]
  },
  {
   "cell_type": "code",
   "execution_count": 29,
   "id": "95fc183c",
   "metadata": {},
   "outputs": [],
   "source": [
    "optim2 = torch.optim.Adam(model2.parameters(), lr=0.001)"
   ]
  },
  {
   "cell_type": "code",
   "execution_count": 30,
   "id": "e0359e8b",
   "metadata": {},
   "outputs": [],
   "source": [
    "epochs = 10\n",
    "train_losses_mod2=[]\n",
    "test_losses_mod2=[]\n",
    "train_correct_mod2 = []\n",
    "test_correct_mod2 = []\n",
    "for i in range(epochs):\n",
    "    train_corr = 0\n",
    "    test_corr = 0\n",
    "\n",
    "    for b, (X_train, y_train) in enumerate(train_loader2):\n",
    "       \n",
    "        y_pred = model2(X_train.view(-1,784))  \n",
    "        loss = crit_loss2(y_pred, y_train)\n",
    "\n",
    "        predicted = torch.max(y_pred.data, 1)[1]\n",
    "        batch_corr = (predicted == y_train).sum()\n",
    "        train_corr += batch_corr\n",
    "        \n",
    "        optim2.zero_grad()\n",
    "        loss.backward()\n",
    "        optim2.step()\n",
    "        \n",
    "    train_losses_mod2.append(loss)\n",
    "    train_correct_mod2.append(train_corr)\n",
    "        \n",
    "    with torch.no_grad():\n",
    "        for b, (X_test, y_test) in enumerate(test_loader2):\n",
    "\n",
    "            y_val = model2(X_test.view(-1,784)) \n",
    "\n",
    "            predicted = torch.max(y_val.data, 1)[1] \n",
    "            test_corr += (predicted == y_test).sum()\n",
    "    \n",
    "    loss = crit_loss2(y_val, y_test)\n",
    "    test_losses_mod2.append(loss)\n",
    "    test_correct_mod2.append(test_corr)    "
   ]
  },
  {
   "cell_type": "code",
   "execution_count": 31,
   "id": "66ef772b",
   "metadata": {},
   "outputs": [],
   "source": [
    "for i in range(len(train_losses_mod2)):\n",
    "     train_loss_list.append(train_losses_mod2[i].detach().numpy())"
   ]
  },
  {
   "cell_type": "code",
   "execution_count": 32,
   "id": "efdaee1e",
   "metadata": {},
   "outputs": [],
   "source": [
    "for i in range(len(test_losses_mod2)):\n",
    "     test_loss_list.append(test_losses_mod2[i].detach().numpy())"
   ]
  },
  {
   "cell_type": "code",
   "execution_count": 33,
   "id": "fc359aa5",
   "metadata": {},
   "outputs": [],
   "source": [
    "for i in range(len(train_correct_mod2)):\n",
    "     train_accuracy_list.append(train_correct_mod2[i].detach().numpy()/600)"
   ]
  },
  {
   "cell_type": "code",
   "execution_count": 34,
   "id": "873ac6fa",
   "metadata": {},
   "outputs": [],
   "source": [
    "for i in range(len(test_correct_mod2)):\n",
    "     test_accuracy_list.append(test_correct_mod2[i].detach().numpy()/100)"
   ]
  },
  {
   "cell_type": "code",
   "execution_count": 35,
   "id": "ae228804",
   "metadata": {},
   "outputs": [],
   "source": [
    "alpa=np.linspace(-1.0, 2.0, num=20)\n",
    "thetaArr=[]\n",
    "for i in range(len(alpa)):\n",
    "    theta=(1-alpa[i])*model1params+alpa[i]*model2params\n",
    "    thetaArr.append(theta)"
   ]
  },
  {
   "cell_type": "code",
   "execution_count": 36,
   "id": "b6fa6c50",
   "metadata": {},
   "outputs": [
    {
     "data": {
      "text/plain": [
       "<matplotlib.legend.Legend at 0x25d3d8e93a0>"
      ]
     },
     "execution_count": 36,
     "metadata": {},
     "output_type": "execute_result"
    },
    {
     "data": {
      "image/png": "[encoded data removed]",
      "text/plain": [
       "<Figure size 640x480 with 2 Axes>"
      ]
     },
     "metadata": {},
     "output_type": "display_data"
    }
   ],
   "source": [
    "fig, ax1= plt.subplots()\n",
    "ax2 = ax1.twinx()\n",
    "ax1.plot(alpa, train_loss_list, 'g', label='Train')\n",
    "ax1.plot(alpa, test_loss_list, 'g--', label='Test')\n",
    "ax2.plot(alpa, train_accuracy_list, 'b', label='accuracy')\n",
    "ax2.plot(alpa, test_accuracy_list, 'b--', label='accuracy')\n",
    "ax1.set_title('Loss and accuracy to the number of interpolation ratio lr=0.001. ')\n",
    "ax1.set_xlabel('alpha')\n",
    "ax1.set_ylabel('loss', color='b')\n",
    "ax2.set_ylabel('accuracy', color='r')\n",
    "ax1.legend(loc='upper right')"
   ]
  },
  {
   "cell_type": "code",
   "execution_count": null,
   "id": "deb18dd4",
   "metadata": {},
   "outputs": [],
   "source": []
  },
  {
   "cell_type": "code",
   "execution_count": 37,
   "id": "acab074d",
   "metadata": {},
   "outputs": [],
   "source": [
    "#############################################   Model lr=0.01   ################################################################"
   ]
  },
  {
   "cell_type": "code",
   "execution_count": null,
   "id": "8d050dd8",
   "metadata": {},
   "outputs": [],
   "source": []
  },
  {
   "cell_type": "code",
   "execution_count": 38,
   "id": "cee7466d",
   "metadata": {},
   "outputs": [],
   "source": [
    "class ModelOne(nn.Module):\n",
    "    def __init__(self, in_features=784, h2=20, h3=40, out_features=10):\n",
    "        super().__init__()\n",
    "        self.fc1 = nn.Linear(in_features,h2)    \n",
    "        self.fc2 = nn.Linear(h2, h3)\n",
    "        self.out = nn.Linear(h3, out_features)\n",
    "        \n",
    "        \n",
    "    def forward(self, x):\n",
    "        x = F.relu(self.fc1(x))\n",
    "        x = F.relu(self.fc2(x))\n",
    "        x = self.out(x)\n",
    "        return x"
   ]
  },
  {
   "cell_type": "code",
   "execution_count": 39,
   "id": "8e2e052f",
   "metadata": {},
   "outputs": [],
   "source": [
    "model_one=ModelOne()"
   ]
  },
  {
   "cell_type": "code",
   "execution_count": 40,
   "id": "009581d4",
   "metadata": {},
   "outputs": [],
   "source": [
    "crit_loss_one = nn.CrossEntropyLoss()"
   ]
  },
  {
   "cell_type": "code",
   "execution_count": 41,
   "id": "4455d466",
   "metadata": {},
   "outputs": [],
   "source": [
    "optim_one = torch.optim.Adam(model_one.parameters(), lr=0.01)"
   ]
  },
  {
   "cell_type": "code",
   "execution_count": 42,
   "id": "316e2c56",
   "metadata": {},
   "outputs": [],
   "source": [
    "epochs = 10\n",
    "train_correct_mod1 = []\n",
    "test_correct_mod1 = []\n",
    "train_losses_mod1=[]\n",
    "test_losses_mod1=[]\n",
    "\n",
    "for i in range(epochs):\n",
    "    train_corr = 0\n",
    "    test_corr = 0\n",
    "\n",
    "    for b, (X_train, y_train) in enumerate(train_loader1):\n",
    "       \n",
    "        y_pred = model_one(X_train.view(-1,784))  \n",
    "        trn_loss = crit_loss_one(y_pred, y_train)\n",
    "\n",
    "        predicted = torch.max(y_pred.data, 1)[1]\n",
    "        batch_corr = (predicted == y_train).sum()\n",
    "        train_corr += batch_corr\n",
    "\n",
    "        optim_one.zero_grad()\n",
    "        trn_loss.backward()\n",
    "        optim_one.step()\n",
    "\n",
    "    train_losses_mod1.append(trn_loss)\n",
    "    train_correct_mod1.append(train_corr)\n",
    "\n",
    "    with torch.no_grad():\n",
    "        for b, (X_test, y_test) in enumerate(test_loader1):\n",
    "\n",
    "            y_val = model_one(X_test.view(-1,784)) \n",
    "\n",
    "            predicted = torch.max(y_val.data, 1)[1] \n",
    "            test_corr += (predicted == y_test).sum()\n",
    "\n",
    "    test_loss = crit_loss_one(y_val, y_test)\n",
    "    test_losses_mod1.append(test_loss)\n",
    "    test_correct_mod1.append(test_corr)     "
   ]
  },
  {
   "cell_type": "code",
   "execution_count": 43,
   "id": "8a3540dd",
   "metadata": {},
   "outputs": [],
   "source": [
    "train_loss_list=[]"
   ]
  },
  {
   "cell_type": "code",
   "execution_count": 44,
   "id": "cda4d33d",
   "metadata": {},
   "outputs": [],
   "source": [
    "for i in range(len(train_losses_mod1)):\n",
    "     train_loss_list.append(train_losses_mod1[i].detach().numpy())"
   ]
  },
  {
   "cell_type": "code",
   "execution_count": 45,
   "id": "b497003a",
   "metadata": {},
   "outputs": [],
   "source": [
    "test_loss_list=[]"
   ]
  },
  {
   "cell_type": "code",
   "execution_count": 46,
   "id": "3a3bc851",
   "metadata": {},
   "outputs": [],
   "source": [
    "for i in range(len(test_losses_mod1)):\n",
    "     test_loss_list.append(test_losses_mod1[i].detach().numpy())"
   ]
  },
  {
   "cell_type": "code",
   "execution_count": 47,
   "id": "951c3346",
   "metadata": {},
   "outputs": [],
   "source": [
    "train_accuracy_list=[]"
   ]
  },
  {
   "cell_type": "code",
   "execution_count": 48,
   "id": "ef65005a",
   "metadata": {},
   "outputs": [],
   "source": [
    "for i in range(len(train_correct_mod1)):\n",
    "     train_accuracy_list.append(train_correct_mod1[i].detach().numpy()/600)"
   ]
  },
  {
   "cell_type": "code",
   "execution_count": 49,
   "id": "9a7a9c7e",
   "metadata": {},
   "outputs": [],
   "source": [
    "test_accuracy_list=[]"
   ]
  },
  {
   "cell_type": "code",
   "execution_count": 50,
   "id": "19b000ce",
   "metadata": {},
   "outputs": [],
   "source": [
    "for i in range(len(test_correct_mod1)):\n",
    "     test_accuracy_list.append(test_correct_mod1[i].detach().numpy()/100)"
   ]
  },
  {
   "cell_type": "code",
   "execution_count": 51,
   "id": "f1ecec36",
   "metadata": {},
   "outputs": [],
   "source": [
    "#-Model 2lr=0.01-"
   ]
  },
  {
   "cell_type": "code",
   "execution_count": 52,
   "id": "a781ae0a",
   "metadata": {},
   "outputs": [],
   "source": [
    "class ModelTwo(nn.Module):\n",
    "    def __init__(self, in_features=784, h2=20, h3=40, out_features=10):\n",
    "        super().__init__()\n",
    "        self.fc1 = nn.Linear(in_features,h2)    \n",
    "        self.fc2 = nn.Linear(h2, h3)\n",
    "        self.out = nn.Linear(h3, out_features) \n",
    "        \n",
    "    def forward(self, x):\n",
    "        x = F.relu(self.fc1(x))\n",
    "        x = F.relu(self.fc2(x))\n",
    "        x = self.out(x)\n",
    "        return x"
   ]
  },
  {
   "cell_type": "code",
   "execution_count": 53,
   "id": "d4e5fd6d",
   "metadata": {},
   "outputs": [],
   "source": [
    "model_two=ModelTwo()"
   ]
  },
  {
   "cell_type": "code",
   "execution_count": 54,
   "id": "172e8f84",
   "metadata": {},
   "outputs": [],
   "source": [
    "crit_loss_two = nn.CrossEntropyLoss()"
   ]
  },
  {
   "cell_type": "code",
   "execution_count": 55,
   "id": "b2199155",
   "metadata": {},
   "outputs": [],
   "source": [
    "optim_two = torch.optim.Adam(model_two.parameters(), lr=0.01)"
   ]
  },
  {
   "cell_type": "code",
   "execution_count": 56,
   "id": "83d9aabb",
   "metadata": {},
   "outputs": [],
   "source": [
    "epochs = 10\n",
    "train_correct_mod2 = []\n",
    "test_correct_mod2 = []\n",
    "train_losses_mod2=[]\n",
    "test_losses_mod2=[]\n",
    "\n",
    "for i in range(epochs):\n",
    "    train_corr = 0\n",
    "    test_corr = 0\n",
    "\n",
    "    for b, (X_train, y_train) in enumerate(train_loader2):\n",
    "       \n",
    "        y_pred = model_two(X_train.view(-1,784))  \n",
    "        trn_loss = crit_loss_two(y_pred, y_train)\n",
    "\n",
    "        predicted = torch.max(y_pred.data, 1)[1]\n",
    "        batch_corr = (predicted == y_train).sum()\n",
    "        train_corr += batch_corr\n",
    "\n",
    "        optim_two .zero_grad()\n",
    "        trn_loss.backward()\n",
    "        optim_two .step()\n",
    "\n",
    "    train_losses_mod2.append(trn_loss)\n",
    "    train_correct_mod2.append(train_corr)\n",
    "\n",
    "    with torch.no_grad():\n",
    "        for b, (X_test, y_test) in enumerate(test_loader2):\n",
    "\n",
    "            y_val = model_two(X_test.view(-1,784)) \n",
    "\n",
    "            predicted = torch.max(y_val.data, 1)[1] \n",
    "            test_corr += (predicted == y_test).sum()\n",
    "\n",
    "    test_loss = crit_loss_two(y_val, y_test)\n",
    "    test_losses_mod2.append(test_loss)\n",
    "    test_correct_mod2.append(test_corr)       "
   ]
  },
  {
   "cell_type": "code",
   "execution_count": 57,
   "id": "d1cd2d5d",
   "metadata": {},
   "outputs": [],
   "source": [
    "for i in range(len(train_losses_mod2)):\n",
    "     train_loss_list.append(train_losses_mod2[i].detach().numpy())"
   ]
  },
  {
   "cell_type": "code",
   "execution_count": 58,
   "id": "32797119",
   "metadata": {},
   "outputs": [],
   "source": [
    "for i in range(len(test_losses_mod2)):\n",
    "     test_loss_list.append(test_losses_mod2[i].detach().numpy())"
   ]
  },
  {
   "cell_type": "code",
   "execution_count": 59,
   "id": "346fa80e",
   "metadata": {},
   "outputs": [],
   "source": [
    "for i in range(len(train_correct_mod2)):\n",
    "     train_accuracy_list.append(train_correct_mod2[i].detach().numpy()/600)"
   ]
  },
  {
   "cell_type": "code",
   "execution_count": 60,
   "id": "0e7af287",
   "metadata": {},
   "outputs": [],
   "source": [
    "for i in range(len(test_correct_mod2)):\n",
    "     test_accuracy_list.append(test_correct_mod2[i].detach().numpy()/100)"
   ]
  },
  {
   "cell_type": "code",
   "execution_count": 61,
   "id": "2f219909",
   "metadata": {},
   "outputs": [
    {
     "data": {
      "text/plain": [
       "<matplotlib.legend.Legend at 0x25d3d7a4880>"
      ]
     },
     "execution_count": 61,
     "metadata": {},
     "output_type": "execute_result"
    },
    {
     "data": {
      "image/png": "[encoded data removed]",
      "text/plain": [
       "<Figure size 640x480 with 2 Axes>"
      ]
     },
     "metadata": {},
     "output_type": "display_data"
    }
   ],
   "source": [
    "fig, ax1 = plt.subplots()\n",
    "ax2 = ax1.twinx()\n",
    "ax1.plot(alpa, train_loss_list, 'g', label='Train')\n",
    "ax1.plot(alpa, test_loss_list, 'g--', label='Test')\n",
    "ax2.plot(alpa, train_accuracy_list, 'b', label='accuracy')\n",
    "ax2.plot(alpa, test_accuracy_list, 'b--', label='accuracy')\n",
    "ax1.set_title('Loss and accuracy to the number of interpolation ratio lr=0.01. ')\n",
    "ax1.set_xlabel('alpha')\n",
    "ax1.set_ylabel('loss', color='b')\n",
    "ax2.set_ylabel('accuracy', color='r')\n",
    "ax1.legend(loc='upper right')"
   ]
  },
  {
   "cell_type": "code",
   "execution_count": null,
   "id": "8666c679",
   "metadata": {},
   "outputs": [],
   "source": []
  }
 ],
 "metadata": {
  "kernelspec": {
   "display_name": "Python 3 (ipykernel)",
   "language": "python",
   "name": "python3"
  },
  "language_info": {
   "codemirror_mode": {
    "name": "ipython",
    "version": 3
   },
   "file_extension": ".py",
   "mimetype": "text/x-python",
   "name": "python",
   "nbconvert_exporter": "python",
   "pygments_lexer": "ipython3",
   "version": "3.9.13"
  }
 },
 "nbformat": 4,
 "nbformat_minor": 5
}
