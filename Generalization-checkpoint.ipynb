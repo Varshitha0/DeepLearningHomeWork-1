{
 "cells": [
  {
   "cell_type": "code",
   "execution_count": 1,
   "id": "05f3a1b8",
   "metadata": {},
   "outputs": [],
   "source": [
    "import torch\n",
    "import torch.nn as nn\n",
    "import torch.nn.functional as F\n",
    "from torch.utils.data import DataLoader\n",
    "from torchvision import datasets, transforms\n",
    "\n",
    "import numpy as np\n",
    "import pandas as pd\n",
    "import matplotlib.pyplot as plt\n",
    "%matplotlib inline"
   ]
  },
  {
   "cell_type": "code",
   "execution_count": 2,
   "id": "f63983f6",
   "metadata": {},
   "outputs": [],
   "source": [
    "transform = transforms.ToTensor()"
   ]
  },
  {
   "cell_type": "code",
   "execution_count": 3,
   "id": "8964a97f",
   "metadata": {},
   "outputs": [],
   "source": [
    "train_data_set = datasets.MNIST(root='C:\\\\Users\\\\varsh\\\\dataset\\\\mnist_train', train=True, download=True, transform=transform)\n",
    "test_data_set = datasets.MNIST(root='C:\\\\Users\\\\varsh\\\\dataset\\\\mnist_test', train=False, download=True, transform=transform)"
   ]
  },
  {
   "cell_type": "code",
   "execution_count": 4,
   "id": "a49f41a9",
   "metadata": {},
   "outputs": [
    {
     "data": {
      "text/plain": [
       "60000"
      ]
     },
     "execution_count": 4,
     "metadata": {},
     "output_type": "execute_result"
    }
   ],
   "source": [
    "len(train_data_set)"
   ]
  },
  {
   "cell_type": "code",
   "execution_count": 5,
   "id": "3edb4486",
   "metadata": {},
   "outputs": [
    {
     "data": {
      "text/plain": [
       "Dataset MNIST\n",
       "    Number of datapoints: 10000\n",
       "    Root location: C:\\Users\\varsh\\dataset\\mnist_test\n",
       "    Split: Test\n",
       "    StandardTransform\n",
       "Transform: ToTensor()"
      ]
     },
     "execution_count": 5,
     "metadata": {},
     "output_type": "execute_result"
    }
   ],
   "source": [
    "test_data_set"
   ]
  },
  {
   "cell_type": "code",
   "execution_count": 6,
   "id": "92fa3e38",
   "metadata": {},
   "outputs": [],
   "source": [
    "rand_labels_train = torch.tensor(np.random.randint(0,10, (len(train_data_set)),))\n",
    "train_data_set.targets = rand_labels_train\n",
    "rand_labels_test = torch.tensor(np.random.randint(0,10, (len(test_data_set)),))\n",
    "test_data_set.targets = rand_labels_test"
   ]
  },
  {
   "cell_type": "code",
   "execution_count": 7,
   "id": "55477839",
   "metadata": {},
   "outputs": [],
   "source": [
    "train_loader = DataLoader(train_data_set, batch_size=50, shuffle=True)\n",
    "test_loader = DataLoader(test_data_set, batch_size=50, shuffle=True)"
   ]
  },
  {
   "cell_type": "code",
   "execution_count": 8,
   "id": "42b1c1ab",
   "metadata": {},
   "outputs": [],
   "source": [
    "class DNModel(nn.Module):\n",
    "    def __init__(self, i=784, z1=120, z2=120,z3=16, o=10):\n",
    "        super().__init__()\n",
    "        self.fc1 = nn.Linear(i,z1)    \n",
    "        self.fc2 = nn.Linear(z1, z2)\n",
    "        self.fc3 = nn.Linear(z2, z3)\n",
    "        self.out = nn.Linear(z3, o)\n",
    "        \n",
    "        \n",
    "    def forward(self, k):\n",
    "        k = F.relu(self.fc1(k))\n",
    "        k = F.relu(self.fc2(k))\n",
    "        k = F.relu(self.fc3(k))\n",
    "        k = self.out(k)\n",
    "        return k"
   ]
  },
  {
   "cell_type": "code",
   "execution_count": 9,
   "id": "cec446f9",
   "metadata": {},
   "outputs": [],
   "source": [
    "dn_model=DNModel()"
   ]
  },
  {
   "cell_type": "code",
   "execution_count": 10,
   "id": "9ca38b6a",
   "metadata": {},
   "outputs": [
    {
     "data": {
      "text/plain": [
       "DNModel(\n",
       "  (fc1): Linear(in_features=784, out_features=120, bias=True)\n",
       "  (fc2): Linear(in_features=120, out_features=120, bias=True)\n",
       "  (fc3): Linear(in_features=120, out_features=16, bias=True)\n",
       "  (out): Linear(in_features=16, out_features=10, bias=True)\n",
       ")"
      ]
     },
     "execution_count": 10,
     "metadata": {},
     "output_type": "execute_result"
    }
   ],
   "source": [
    "dn_model"
   ]
  },
  {
   "cell_type": "code",
   "execution_count": 11,
   "id": "380efac9",
   "metadata": {},
   "outputs": [],
   "source": [
    "CriterionLoss = nn.CrossEntropyLoss()"
   ]
  },
  {
   "cell_type": "code",
   "execution_count": 12,
   "id": "6f98564a",
   "metadata": {},
   "outputs": [],
   "source": [
    "optim = torch.optim.Adam(dn_model.parameters(), lr=0.001)"
   ]
  },
  {
   "cell_type": "code",
   "execution_count": 13,
   "id": "85b0ea14",
   "metadata": {},
   "outputs": [],
   "source": [
    "epochs = 10\n",
    "train_losses = []\n",
    "test_losses = []\n",
    "\n",
    "for i in range(epochs):\n",
    "    \n",
    "    #training the batches\n",
    "    for b, (Xtrain, ytrain) in enumerate(train_loader):\n",
    "        \n",
    "        # Applying the model\n",
    "        ypred = dn_model(Xtrain.view(50, -1))  # Here we flatten X_train\n",
    "        loss = CriterionLoss(ypred, ytrain)\n",
    " \n",
    "        # Updating the parameters\n",
    "        optim.zero_grad()\n",
    "        loss.backward()\n",
    "        optim.step()\n",
    "        \n",
    "     \n",
    "    # Appending train loss  for the epoch\n",
    "    train_losses.append(loss)\n",
    "        \n",
    "    # testing the batches\n",
    "    with torch.no_grad():\n",
    "        for b, (Xtest, ytest) in enumerate(test_loader):\n",
    "\n",
    "            # Applying  the model\n",
    "            yval = dn_model(Xtest.view(50, -1)) \n",
    "    \n",
    "    # Appending test loss for the epoch\n",
    "    loss = CriterionLoss(yval, ytest)\n",
    "    test_losses.append(loss)\n",
    "    \n",
    "        "
   ]
  },
  {
   "cell_type": "code",
   "execution_count": 14,
   "id": "0e99200d",
   "metadata": {},
   "outputs": [],
   "source": [
    "train_losses=torch.tensor(train_losses)\n",
    "test_losses=torch.tensor(test_losses)"
   ]
  },
  {
   "cell_type": "code",
   "execution_count": 15,
   "id": "b167e8e6",
   "metadata": {},
   "outputs": [
    {
     "data": {
      "image/png": "[encoded data removed]",
      "text/plain": [
       "<Figure size 640x480 with 1 Axes>"
      ]
     },
     "metadata": {},
     "output_type": "display_data"
    }
   ],
   "source": [
    "# Visulaize losses for for MNIST dataset\n",
    "plt.plot(range(epochs), train_losses, 'r', label='Train')\n",
    "plt.plot(range(epochs), test_losses, 'b', label='Test')\n",
    "plt.title(\"Loss\")\n",
    "plt.xlabel(\"Epochs\")\n",
    "plt.ylabel(\"Loss\")\n",
    "plt.legend(loc=\"upper right\")\n",
    "plt.show()"
   ]
  },
  {
   "cell_type": "code",
   "execution_count": null,
   "id": "01e2ff30",
   "metadata": {},
   "outputs": [],
   "source": []
  }
 ],
 "metadata": {
  "kernelspec": {
   "display_name": "Python 3 (ipykernel)",
   "language": "python",
   "name": "python3"
  },
  "language_info": {
   "codemirror_mode": {
    "name": "ipython",
    "version": 3
   },
   "file_extension": ".py",
   "mimetype": "text/x-python",
   "name": "python",
   "nbconvert_exporter": "python",
   "pygments_lexer": "ipython3",
   "version": "3.9.13"
  }
 },
 "nbformat": 4,
 "nbformat_minor": 5
}
