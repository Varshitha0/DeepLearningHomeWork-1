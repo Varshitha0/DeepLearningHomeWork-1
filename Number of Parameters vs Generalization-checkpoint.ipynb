{
 "cells": [
  {
   "cell_type": "code",
   "execution_count": 1,
   "id": "0c971ce3",
   "metadata": {},
   "outputs": [],
   "source": [
    "import torch\n",
    "import torch.nn as nn\n",
    "import torch.nn.functional as F\n",
    "from torch.utils.data import DataLoader\n",
    "from torchvision import datasets, transforms\n",
    "from torchvision.utils import make_grid\n",
    "\n",
    "import numpy as np\n",
    "import pandas as pd\n",
    "from sklearn.metrics import confusion_matrix\n",
    "import matplotlib.pyplot as plt\n",
    "%matplotlib inline"
   ]
  },
  {
   "cell_type": "code",
   "execution_count": 2,
   "id": "6f364ee7",
   "metadata": {},
   "outputs": [],
   "source": [
    "transform = transforms.ToTensor()"
   ]
  },
  {
   "cell_type": "code",
   "execution_count": 3,
   "id": "4e09c15d",
   "metadata": {},
   "outputs": [],
   "source": [
    "train_data= datasets.MNIST(root='C:\\Users\\varsh\\Desktop\\DeepLearningHomeWork-1', train=True, download=True, transform=transform)\n",
    "test_data= datasets.MNIST(root='C:\\Users\\varsh\\Desktop\\DeepLearningHomeWork-1', train=False, download=True, transform=transform)"
   ]
  },
  {
   "cell_type": "code",
   "execution_count": 4,
   "id": "f9c7a702",
   "metadata": {},
   "outputs": [
    {
     "data": {
      "text/plain": [
       "Dataset MNIST\n",
       "    Number of datapoints: 60000\n",
       "    Root location: C:\\Users\\Jayanth\\Desktop\\Deep learning\\Deeplearning HW1\n",
       "    Split: Train\n",
       "    StandardTransform\n",
       "Transform: ToTensor()"
      ]
     },
     "execution_count": 4,
     "metadata": {},
     "output_type": "execute_result"
    }
   ],
   "source": [
    "train_data"
   ]
  },
  {
   "cell_type": "code",
   "execution_count": 5,
   "id": "36be17b5",
   "metadata": {},
   "outputs": [
    {
     "data": {
      "text/plain": [
       "Dataset MNIST\n",
       "    Number of datapoints: 10000\n",
       "    Root location: C:\\Users\\Jayanth\\Desktop\\Deep learning\\Deeplearning HW1\n",
       "    Split: Test\n",
       "    StandardTransform\n",
       "Transform: ToTensor()"
      ]
     },
     "execution_count": 5,
     "metadata": {},
     "output_type": "execute_result"
    }
   ],
   "source": [
    "test_data"
   ]
  },
  {
   "cell_type": "code",
   "execution_count": 6,
   "id": "e055e64e",
   "metadata": {},
   "outputs": [],
   "source": [
    "trainLoad = DataLoader(train_data, batch_size=500, shuffle=True)\n",
    "\n",
    "testLoad = DataLoader(test_data, batch_size=100, shuffle=False)"
   ]
  },
  {
   "cell_type": "code",
   "execution_count": 7,
   "id": "22ce34c8",
   "metadata": {},
   "outputs": [],
   "source": [
    "# Calculating number of parameters in the class\n",
    "def CalcParams(model):\n",
    "    val = sum(params.numel() for params in model.parameters() if params.requires_grad)\n",
    "    return val"
   ]
  },
  {
   "cell_type": "code",
   "execution_count": 8,
   "id": "3e479fc1",
   "metadata": {},
   "outputs": [],
   "source": [
    "#Model1 with 1645 parameters\n",
    "class Model1(nn.Module):\n",
    "    def __init__(self, i=784, z1=2, z2=5, o=10):\n",
    "        super().__init__()\n",
    "        self.fc1 = nn.Linear(i,z1)    \n",
    "        self.fc2 = nn.Linear(z1, z2)\n",
    "        self.out = nn.Linear(z2, o)\n",
    "        \n",
    "        \n",
    "    def forward(self, k):\n",
    "        k = F.relu(self.fc1(k))\n",
    "        k = F.relu(self.fc2(k))\n",
    "        k = self.out(k)\n",
    "        return k"
   ]
  },
  {
   "cell_type": "code",
   "execution_count": 9,
   "id": "e52e0d5d",
   "metadata": {},
   "outputs": [],
   "source": [
    "model1=Model1()"
   ]
  },
  {
   "cell_type": "code",
   "execution_count": 10,
   "id": "ee76b189",
   "metadata": {},
   "outputs": [
    {
     "data": {
      "text/plain": [
       "Model1(\n",
       "  (fc1): Linear(in_features=784, out_features=2, bias=True)\n",
       "  (fc2): Linear(in_features=2, out_features=5, bias=True)\n",
       "  (out): Linear(in_features=5, out_features=10, bias=True)\n",
       ")"
      ]
     },
     "execution_count": 10,
     "metadata": {},
     "output_type": "execute_result"
    }
   ],
   "source": [
    "model1"
   ]
  },
  {
   "cell_type": "code",
   "execution_count": 11,
   "id": "dbe31b35",
   "metadata": {},
   "outputs": [
    {
     "name": "stdout",
     "output_type": "stream",
     "text": [
      "1645\n"
     ]
    }
   ],
   "source": [
    "model1params=CalcParams(model1)\n",
    "print(model1params)"
   ]
  },
  {
   "cell_type": "code",
   "execution_count": 12,
   "id": "1da4eb0b",
   "metadata": {},
   "outputs": [],
   "source": [
    "criterion1 = nn.CrossEntropyLoss()"
   ]
  },
  {
   "cell_type": "code",
   "execution_count": 13,
   "id": "158af8d6",
   "metadata": {},
   "outputs": [],
   "source": [
    "optimizer1 = torch.optim.Adam(model1.parameters(), lr=0.001)"
   ]
  },
  {
   "cell_type": "code",
   "execution_count": 15,
   "id": "cb3a0bff",
   "metadata": {},
   "outputs": [],
   "source": [
    "epochs = 30\n",
    "train_correct_mod1 = []\n",
    "test_correct_mod1 = []\n",
    "for i in range(epochs):\n",
    "    train_corr = 0\n",
    "    test_corr = 0\n",
    "\n",
    "    # Run the training batches\n",
    "    for b, (Xtrain, ytrain) in enumerate(trainLoad):\n",
    "        \n",
    "        ypred = model1(Xtrain.view(500, -1))  \n",
    "        loss = criterion1(ypred, ytrain)\n",
    "\n",
    "        # Tally the number of correct predictions\n",
    "        predicted = torch.max(ypred.data, 1)[1]\n",
    "        batch_corr = (predicted == ytrain).sum()\n",
    "        train_corr += batch_corr\n",
    "        \n",
    "        # Update parameters\n",
    "        optimizer1.zero_grad()\n",
    "        loss.backward()\n",
    "        optimizer1.step()\n",
    "        \n",
    "    # Update train loss & accuracy for the epoch\n",
    "    train_losses_mod1=loss\n",
    "    train_correct_mod1.append(train_corr)\n",
    "        \n",
    "    # Run the testing batches\n",
    "    with torch.no_grad():\n",
    "        for b, (Xtest, ytest) in enumerate(testLoad):\n",
    "\n",
    "            # Apply the model\n",
    "            y_val = model1(Xtest.view(100, -1)) \n",
    "\n",
    "            # Tally the number of correct predictions\n",
    "            predicted = torch.max(y_val.data, 1)[1] \n",
    "            test_corr += (predicted == ytest).sum()\n",
    "    \n",
    "    # Update test loss & accuracy for the epoch\n",
    "    loss = criterion1(y_val, ytest)\n",
    "    test_losses_mod1=(loss)\n",
    "    test_correct_mod1.append(test_corr)\n",
    "    \n",
    "        "
   ]
  },
  {
   "cell_type": "code",
   "execution_count": 16,
   "id": "c1703f9f",
   "metadata": {},
   "outputs": [],
   "source": [
    "train_losses_mod1= train_losses_mod1.detach().numpy()\n"
   ]
  },
  {
   "cell_type": "code",
   "execution_count": 17,
   "id": "5e17302b",
   "metadata": {},
   "outputs": [
    {
     "name": "stdout",
     "output_type": "stream",
     "text": [
      "tensor(67.8817)\n"
     ]
    }
   ],
   "source": [
    " for t in train_correct_mod1:\n",
    "    trn_accu_mod1=t/600\n",
    "    \n",
    "print(trn_accu_mod1)"
   ]
  },
  {
   "cell_type": "code",
   "execution_count": 18,
   "id": "c2fe0d01",
   "metadata": {},
   "outputs": [
    {
     "name": "stdout",
     "output_type": "stream",
     "text": [
      "tensor(68.2300)\n"
     ]
    }
   ],
   "source": [
    " for t in test_correct_mod1:\n",
    "    tst_accu_mod1=t/100\n",
    "    \n",
    "print(tst_accu_mod1)"
   ]
  },
  {
   "cell_type": "code",
   "execution_count": null,
   "id": "70fbefd0",
   "metadata": {},
   "outputs": [],
   "source": []
  },
  {
   "cell_type": "code",
   "execution_count": 19,
   "id": "46fadf7e",
   "metadata": {},
   "outputs": [],
   "source": [
    "#######################################----------Model-2------------#####################################################################"
   ]
  },
  {
   "cell_type": "code",
   "execution_count": null,
   "id": "11ba244d",
   "metadata": {},
   "outputs": [],
   "source": []
  },
  {
   "cell_type": "code",
   "execution_count": 20,
   "id": "85d7ba07",
   "metadata": {},
   "outputs": [],
   "source": [
    "#Model2 with 3240parameters\n",
    "class Model2(nn.Module):\n",
    "    def __init__(self, in_features=784, h1=4, h2=6, out_features=10):\n",
    "        super().__init__()\n",
    "        self.fc1 = nn.Linear(in_features,h1)    \n",
    "        self.fc2 = nn.Linear(h1, h2)\n",
    "        self.out = nn.Linear(h2, out_features)\n",
    "        \n",
    "        \n",
    "    def forward(self, x):\n",
    "        x = F.relu(self.fc1(x))\n",
    "        x = F.relu(self.fc2(x))\n",
    "        x = self.out(x)\n",
    "        return x"
   ]
  },
  {
   "cell_type": "code",
   "execution_count": 21,
   "id": "40a5acd2",
   "metadata": {},
   "outputs": [],
   "source": [
    "model2=Model2()"
   ]
  },
  {
   "cell_type": "code",
   "execution_count": 22,
   "id": "c1dc81db",
   "metadata": {},
   "outputs": [
    {
     "data": {
      "text/plain": [
       "Model2(\n",
       "  (fc1): Linear(in_features=784, out_features=4, bias=True)\n",
       "  (fc2): Linear(in_features=4, out_features=6, bias=True)\n",
       "  (out): Linear(in_features=6, out_features=10, bias=True)\n",
       ")"
      ]
     },
     "execution_count": 22,
     "metadata": {},
     "output_type": "execute_result"
    }
   ],
   "source": [
    "model2"
   ]
  },
  {
   "cell_type": "code",
   "execution_count": 23,
   "id": "0ae1f3a5",
   "metadata": {},
   "outputs": [
    {
     "name": "stdout",
     "output_type": "stream",
     "text": [
      "3240\n"
     ]
    }
   ],
   "source": [
    "model2params=CalcParams(model2)\n",
    "print(model2params)"
   ]
  },
  {
   "cell_type": "code",
   "execution_count": 24,
   "id": "4f3685ce",
   "metadata": {},
   "outputs": [],
   "source": [
    "criterion2 = nn.CrossEntropyLoss()"
   ]
  },
  {
   "cell_type": "code",
   "execution_count": 25,
   "id": "e01ca0a7",
   "metadata": {},
   "outputs": [],
   "source": [
    "optimizer2 = torch.optim.Adam(model2.parameters(), lr=0.001)"
   ]
  },
  {
   "cell_type": "code",
   "execution_count": 26,
   "id": "33fe9566",
   "metadata": {},
   "outputs": [],
   "source": [
    "epochs = 30\n",
    "train_correct_mod2 = []\n",
    "test_correct_mod2 = []\n",
    "\n",
    "for i in range(epochs):\n",
    "    train_corr = 0\n",
    "    test_corr = 0\n",
    "    # Run the training batches\n",
    "    for b, (X_train, y_train) in enumerate(trainLoad):\n",
    "       \n",
    "        ypred = model2(Xtrain.view(500, -1))  \n",
    "        loss = criterion2(ypred, ytrain)\n",
    "\n",
    "        # Tally the number of correct predictions\n",
    "        predicted = torch.max(ypred.data, 1)[1]\n",
    "        batch_corr = (predicted == ytrain).sum()\n",
    "        train_corr += batch_corr\n",
    "        \n",
    "        \n",
    "              \n",
    "        # Update parameters\n",
    "        optimizer2.zero_grad()\n",
    "        loss.backward()\n",
    "        optimizer2.step()\n",
    "        \n",
    "#     print(train_corr.item()*100/(100*b))\n",
    "    # Update train loss & accuracy for the epoch\n",
    "    train_losses_mod2=loss\n",
    "    train_correct_mod2.append(train_corr)\n",
    "        \n",
    "    # Run the testing batches\n",
    "    with torch.no_grad():\n",
    "        for b, (Xtest, ytest) in enumerate(testLoad):\n",
    "\n",
    "            # Apply the model\n",
    "            y_val = model2(Xtest.view(100, -1)) \n",
    "\n",
    "            # Tally the number of correct predictions\n",
    "            predicted = torch.max(y_val.data, 1)[1] \n",
    "            test_corr += (predicted == ytest).sum()\n",
    "    \n",
    "    # Update test loss & accuracy for the epoch\n",
    "    loss = criterion2(y_val, ytest)\n",
    "    test_losses_mod2=(loss)\n",
    "    test_correct_mod2.append(test_corr)\n",
    "        "
   ]
  },
  {
   "cell_type": "code",
   "execution_count": 27,
   "id": "52beecc7",
   "metadata": {},
   "outputs": [],
   "source": [
    "train_losses_mod2= train_losses_mod2.detach().numpy()"
   ]
  },
  {
   "cell_type": "code",
   "execution_count": 28,
   "id": "0b7a02a2",
   "metadata": {},
   "outputs": [
    {
     "name": "stdout",
     "output_type": "stream",
     "text": [
      "tensor(100.)\n"
     ]
    }
   ],
   "source": [
    "for t in train_correct_mod2:\n",
    "    trn_accu_mod2=t/600\n",
    "    \n",
    "print(trn_accu_mod2)"
   ]
  },
  {
   "cell_type": "code",
   "execution_count": 29,
   "id": "c88b3df9",
   "metadata": {},
   "outputs": [
    {
     "name": "stdout",
     "output_type": "stream",
     "text": [
      "tensor(59.6200)\n"
     ]
    }
   ],
   "source": [
    " for t in test_correct_mod2:\n",
    "    tst_accu_mod2=t/100\n",
    "    \n",
    "print(tst_accu_mod2)"
   ]
  },
  {
   "cell_type": "code",
   "execution_count": null,
   "id": "fc0d0249",
   "metadata": {},
   "outputs": [],
   "source": []
  },
  {
   "cell_type": "code",
   "execution_count": 30,
   "id": "7f646ac3",
   "metadata": {},
   "outputs": [],
   "source": [
    "#######################################----------Model-3------------#####################################################################"
   ]
  },
  {
   "cell_type": "code",
   "execution_count": null,
   "id": "d6823e0b",
   "metadata": {},
   "outputs": [],
   "source": []
  },
  {
   "cell_type": "code",
   "execution_count": 31,
   "id": "cb7cd7d8",
   "metadata": {},
   "outputs": [],
   "source": [
    "#Model3 with 8280 parameters\n",
    "class Model3(nn.Module):\n",
    "    def __init__(self, in_features=784, h1=10, h2=20, out_features=10):\n",
    "        super().__init__()\n",
    "        self.fc1 = nn.Linear(in_features,h1)    \n",
    "        self.fc2 = nn.Linear(h1, h2)\n",
    "        self.out = nn.Linear(h2, out_features)\n",
    "        \n",
    "        \n",
    "    def forward(self, x):\n",
    "        x = F.relu(self.fc1(x))\n",
    "        x = F.relu(self.fc2(x))\n",
    "        x = self.out(x)\n",
    "        return x"
   ]
  },
  {
   "cell_type": "code",
   "execution_count": 32,
   "id": "bd746f70",
   "metadata": {},
   "outputs": [],
   "source": [
    "model3=Model3()"
   ]
  },
  {
   "cell_type": "code",
   "execution_count": 33,
   "id": "18463ce3",
   "metadata": {},
   "outputs": [
    {
     "data": {
      "text/plain": [
       "Model3(\n",
       "  (fc1): Linear(in_features=784, out_features=10, bias=True)\n",
       "  (fc2): Linear(in_features=10, out_features=20, bias=True)\n",
       "  (out): Linear(in_features=20, out_features=10, bias=True)\n",
       ")"
      ]
     },
     "execution_count": 33,
     "metadata": {},
     "output_type": "execute_result"
    }
   ],
   "source": [
    "model3"
   ]
  },
  {
   "cell_type": "code",
   "execution_count": 34,
   "id": "8ee2d4c1",
   "metadata": {},
   "outputs": [
    {
     "name": "stdout",
     "output_type": "stream",
     "text": [
      "8280\n"
     ]
    }
   ],
   "source": [
    "model3params=CalcParams(model3)\n",
    "print(model3params)"
   ]
  },
  {
   "cell_type": "code",
   "execution_count": 35,
   "id": "0366a76b",
   "metadata": {},
   "outputs": [],
   "source": [
    "criterion3 = nn.CrossEntropyLoss()\n",
    "optimizer3 = torch.optim.Adam(model3.parameters(), lr=0.001)"
   ]
  },
  {
   "cell_type": "code",
   "execution_count": 36,
   "id": "075d6385",
   "metadata": {},
   "outputs": [],
   "source": [
    "epochs = 30\n",
    "train_correct_mod3 = []\n",
    "test_correct_mod3 = []\n",
    "for i in range(epochs):\n",
    "    train_corr = 0\n",
    "    test_corr = 0\n",
    "    \n",
    "    # Run the training batches\n",
    "    for b, (Xtrain, ytrain) in enumerate(trainLoad):\n",
    "       \n",
    "        ypred = model3(Xtrain.view(500, -1))  \n",
    "        loss = criterion3(ypred, ytrain)\n",
    "\n",
    "        # Tally the number of correct predictions\n",
    "        predicted = torch.max(ypred.data, 1)[1]\n",
    "        batch_corr = (predicted == ytrain).sum()\n",
    "        train_corr += batch_corr\n",
    "        \n",
    "        # Update parameters\n",
    "        optimizer3.zero_grad()\n",
    "        loss.backward()\n",
    "        optimizer3.step()\n",
    "        \n",
    "    # Update train loss & accuracy for the epoch\n",
    "    train_losses_mod3=loss\n",
    "    train_correct_mod3.append(train_corr)\n",
    "        \n",
    "    # Run the testing batches\n",
    "    with torch.no_grad():\n",
    "        for b, (Xtest, ytest) in enumerate(testLoad):\n",
    "\n",
    "            # Apply the model\n",
    "            y_val = model3(Xtest.view(100, -1)) \n",
    "\n",
    "            # Tally the number of correct predictions\n",
    "            predicted = torch.max(y_val.data, 1)[1] \n",
    "            test_corr += (predicted == ytest).sum()\n",
    "    \n",
    "    # Update test loss & accuracy for the epoch\n",
    "    loss = criterion3(y_val, ytest)\n",
    "    test_losses_mod3=loss\n",
    "    test_correct_mod3.append(test_corr)\n",
    "        "
   ]
  },
  {
   "cell_type": "code",
   "execution_count": 37,
   "id": "8b92ea4b",
   "metadata": {},
   "outputs": [],
   "source": [
    "train_losses_mod3= train_losses_mod3.detach().numpy()"
   ]
  },
  {
   "cell_type": "code",
   "execution_count": 38,
   "id": "d8f84770",
   "metadata": {},
   "outputs": [
    {
     "name": "stdout",
     "output_type": "stream",
     "text": [
      "tensor(94.5350)\n"
     ]
    }
   ],
   "source": [
    "for t in train_correct_mod3:\n",
    "    trn_accu_mod3=t/600\n",
    "    \n",
    "print(trn_accu_mod3)"
   ]
  },
  {
   "cell_type": "code",
   "execution_count": 39,
   "id": "8d541b91",
   "metadata": {},
   "outputs": [
    {
     "name": "stdout",
     "output_type": "stream",
     "text": [
      "tensor(93.8900)\n"
     ]
    }
   ],
   "source": [
    "for t in test_correct_mod3:\n",
    "    tst_accu_mod3=t/100\n",
    "    \n",
    "print(tst_accu_mod3)"
   ]
  },
  {
   "cell_type": "code",
   "execution_count": null,
   "id": "a6b7c8be",
   "metadata": {},
   "outputs": [],
   "source": []
  },
  {
   "cell_type": "code",
   "execution_count": 40,
   "id": "6723e551",
   "metadata": {},
   "outputs": [],
   "source": [
    "#######################################----------Model-4------------#####################################################################"
   ]
  },
  {
   "cell_type": "code",
   "execution_count": null,
   "id": "3d19f35d",
   "metadata": {},
   "outputs": [],
   "source": []
  },
  {
   "cell_type": "code",
   "execution_count": 41,
   "id": "ee728004",
   "metadata": {},
   "outputs": [],
   "source": [
    "#Model4 with 16950 parameters\n",
    "class Model4(nn.Module):\n",
    "    def __init__(self, in_features=784, h1=20, h2=40, out_features=10):\n",
    "        super().__init__()\n",
    "        self.fc1 = nn.Linear(in_features,h1)    \n",
    "        self.fc2 = nn.Linear(h1, h2)\n",
    "        self.out = nn.Linear(h2, out_features)\n",
    "        \n",
    "        \n",
    "    def forward(self, x):\n",
    "        x = F.relu(self.fc1(x))\n",
    "        x = F.relu(self.fc2(x))\n",
    "        x = self.out(x)\n",
    "        return x"
   ]
  },
  {
   "cell_type": "code",
   "execution_count": 42,
   "id": "a29c17e9",
   "metadata": {},
   "outputs": [],
   "source": [
    "model4=Model4()"
   ]
  },
  {
   "cell_type": "code",
   "execution_count": 43,
   "id": "6221710e",
   "metadata": {},
   "outputs": [
    {
     "data": {
      "text/plain": [
       "Model4(\n",
       "  (fc1): Linear(in_features=784, out_features=20, bias=True)\n",
       "  (fc2): Linear(in_features=20, out_features=40, bias=True)\n",
       "  (out): Linear(in_features=40, out_features=10, bias=True)\n",
       ")"
      ]
     },
     "execution_count": 43,
     "metadata": {},
     "output_type": "execute_result"
    }
   ],
   "source": [
    "model4"
   ]
  },
  {
   "cell_type": "code",
   "execution_count": 44,
   "id": "bbedf321",
   "metadata": {},
   "outputs": [
    {
     "name": "stdout",
     "output_type": "stream",
     "text": [
      "16950\n"
     ]
    }
   ],
   "source": [
    "model4params=CalcParams(model4)\n",
    "print(model4params)"
   ]
  },
  {
   "cell_type": "code",
   "execution_count": 45,
   "id": "48f51f23",
   "metadata": {},
   "outputs": [],
   "source": [
    "criterion4 = nn.CrossEntropyLoss()\n",
    "optimizer4 = torch.optim.Adam(model4.parameters(), lr=0.001)"
   ]
  },
  {
   "cell_type": "code",
   "execution_count": 49,
   "id": "7d49fcb8",
   "metadata": {},
   "outputs": [],
   "source": [
    "epochs = 30\n",
    "train_correct_mod4 = []\n",
    "test_correct_mod4 = []\n",
    "for i in range(epochs):\n",
    "    train_corr = 0\n",
    "    test_corr = 0\n",
    "    \n",
    "    # Run the training batches\n",
    "    for b, (Xtrain, ytrain) in enumerate(trainLoad):\n",
    "       \n",
    "        ypred = model4(Xtrain.view(500, -1))  \n",
    "        loss = criterion4(ypred, ytrain)\n",
    "\n",
    "        # Tally the number of correct predictions\n",
    "        predicted = torch.max(ypred.data, 1)[1]\n",
    "        batch_corr = (predicted == ytrain).sum()\n",
    "        train_corr += batch_corr\n",
    "        \n",
    "        # Update parameters\n",
    "        optimizer4.zero_grad()\n",
    "        loss.backward()\n",
    "        optimizer4.step()\n",
    "        \n",
    "    # Update train loss & accuracy for the epoch\n",
    "    train_losses_mod4=loss\n",
    "    train_correct_mod4.append(train_corr)\n",
    "        \n",
    "    # Run the testing batches\n",
    "    with torch.no_grad():\n",
    "        for b, (Xtest, ytest) in enumerate(testLoad):\n",
    "\n",
    "            # Apply the model\n",
    "            y_val = model4(Xtest.view(100, -1)) \n",
    "\n",
    "            # Tally the number of correct predictions\n",
    "            predicted = torch.max(y_val.data, 1)[1] \n",
    "            test_corr += (predicted == ytest).sum()\n",
    "    \n",
    "    # Update test loss & accuracy for the epoch\n",
    "    loss = criterion4(y_val, ytest)\n",
    "    test_losses_mod4=loss\n",
    "    test_correct_mod4.append(test_corr)\n",
    "        \n",
    "      "
   ]
  },
  {
   "cell_type": "code",
   "execution_count": 50,
   "id": "1bb02ed4",
   "metadata": {},
   "outputs": [],
   "source": [
    "train_losses_mod4 = train_losses_mod4.detach().numpy()"
   ]
  },
  {
   "cell_type": "code",
   "execution_count": 51,
   "id": "e29a8d3b",
   "metadata": {},
   "outputs": [
    {
     "name": "stdout",
     "output_type": "stream",
     "text": [
      "tensor(97.2283)\n"
     ]
    }
   ],
   "source": [
    "for t in train_correct_mod4:\n",
    "    trn_accu_mod4=t/600\n",
    "    \n",
    "print(trn_accu_mod4)"
   ]
  },
  {
   "cell_type": "code",
   "execution_count": 52,
   "id": "b475d279",
   "metadata": {},
   "outputs": [
    {
     "name": "stdout",
     "output_type": "stream",
     "text": [
      "tensor(95.9500)\n"
     ]
    }
   ],
   "source": [
    "for t in test_correct_mod4:\n",
    "    tst_accu_mod4=t/100\n",
    "    \n",
    "print(tst_accu_mod4)"
   ]
  },
  {
   "cell_type": "code",
   "execution_count": null,
   "id": "0f85dc4b",
   "metadata": {},
   "outputs": [],
   "source": []
  },
  {
   "cell_type": "code",
   "execution_count": 53,
   "id": "ff78e8aa",
   "metadata": {},
   "outputs": [],
   "source": [
    "#######################################----------Model-5------------#####################################################################"
   ]
  },
  {
   "cell_type": "code",
   "execution_count": null,
   "id": "6d47c7ea",
   "metadata": {},
   "outputs": [],
   "source": []
  },
  {
   "cell_type": "code",
   "execution_count": 54,
   "id": "b39b789e",
   "metadata": {},
   "outputs": [],
   "source": [
    "#Model5 with 44140 parameters\n",
    "class Model5(nn.Module):\n",
    "    def __init__(self, in_features=784, h1=50, h2=80, out_features=10):\n",
    "        super().__init__()\n",
    "        self.fc1 = nn.Linear(in_features,h1)    \n",
    "        self.fc2 = nn.Linear(h1, h2)\n",
    "        self.out = nn.Linear(h2, out_features)\n",
    "        \n",
    "        \n",
    "    def forward(self, x):\n",
    "        x = F.relu(self.fc1(x))\n",
    "        x = F.relu(self.fc2(x))\n",
    "        x = self.out(x)\n",
    "        return x"
   ]
  },
  {
   "cell_type": "code",
   "execution_count": 55,
   "id": "7584e3ad",
   "metadata": {},
   "outputs": [],
   "source": [
    "model5=Model5()"
   ]
  },
  {
   "cell_type": "code",
   "execution_count": 56,
   "id": "0257cbb0",
   "metadata": {},
   "outputs": [
    {
     "data": {
      "text/plain": [
       "Model5(\n",
       "  (fc1): Linear(in_features=784, out_features=50, bias=True)\n",
       "  (fc2): Linear(in_features=50, out_features=80, bias=True)\n",
       "  (out): Linear(in_features=80, out_features=10, bias=True)\n",
       ")"
      ]
     },
     "execution_count": 56,
     "metadata": {},
     "output_type": "execute_result"
    }
   ],
   "source": [
    "model5"
   ]
  },
  {
   "cell_type": "code",
   "execution_count": 57,
   "id": "eecde4b6",
   "metadata": {},
   "outputs": [
    {
     "name": "stdout",
     "output_type": "stream",
     "text": [
      "44140\n"
     ]
    }
   ],
   "source": [
    "model5params=CalcParams(model5)\n",
    "print(model5params)"
   ]
  },
  {
   "cell_type": "code",
   "execution_count": 58,
   "id": "c06cde89",
   "metadata": {},
   "outputs": [],
   "source": [
    "criterion5 = nn.CrossEntropyLoss()\n",
    "optimizer5 = torch.optim.Adam(model5.parameters(), lr=0.001)"
   ]
  },
  {
   "cell_type": "code",
   "execution_count": 59,
   "id": "7c5772e0",
   "metadata": {},
   "outputs": [],
   "source": [
    "epochs = 30\n",
    "train_correct_mod5 = []\n",
    "test_correct_mod5 = []\n",
    "for i in range(epochs):\n",
    "    train_corr = 0\n",
    "    test_corr = 0\n",
    "    \n",
    "    # Run the training batches\n",
    "    for b, (Xtrain, ytrain) in enumerate(trainLoad):\n",
    "       \n",
    "        y_pred = model5(Xtrain.view(500, -1))  \n",
    "        loss = criterion5(y_pred, ytrain)\n",
    "\n",
    "        # Tally the number of correct predictions\n",
    "        predicted = torch.max(y_pred.data, 1)[1]\n",
    "        batch_corr = (predicted == ytrain).sum()\n",
    "        train_corr += batch_corr\n",
    "        \n",
    "        # Update parameters\n",
    "        optimizer5.zero_grad()\n",
    "        loss.backward()\n",
    "        optimizer5.step()\n",
    "        \n",
    "    # Update train loss & accuracy for the epoch\n",
    "    train_losses_mod5=loss\n",
    "    train_correct_mod5.append(train_corr)\n",
    "        \n",
    "    # Run the testing batches\n",
    "    with torch.no_grad():\n",
    "        for b, (Xtest, ytest) in enumerate(testLoad):\n",
    "\n",
    "            # Apply the model\n",
    "            y_val = model5(Xtest.view(100, -1)) \n",
    "\n",
    "            # Tally the number of correct predictions\n",
    "            predicted = torch.max(y_val.data, 1)[1] \n",
    "            test_corr += (predicted == ytest).sum()\n",
    "    \n",
    "    # Update test loss & accuracy for the epoch\n",
    "    loss = criterion5(y_val, ytest)\n",
    "    test_losses_mod5=loss\n",
    "    test_correct_mod5.append(test_corr)\n",
    "        "
   ]
  },
  {
   "cell_type": "code",
   "execution_count": 60,
   "id": "f9c43274",
   "metadata": {},
   "outputs": [],
   "source": [
    "train_losses_mod5 = train_losses_mod5.detach().numpy()"
   ]
  },
  {
   "cell_type": "code",
   "execution_count": 61,
   "id": "2be4fb89",
   "metadata": {},
   "outputs": [
    {
     "name": "stdout",
     "output_type": "stream",
     "text": [
      "tensor(99.3017)\n"
     ]
    }
   ],
   "source": [
    "for t in train_correct_mod5:\n",
    "    trn_accu_mod5=t/600\n",
    "    \n",
    "print(trn_accu_mod5)"
   ]
  },
  {
   "cell_type": "code",
   "execution_count": 62,
   "id": "f7e134cc",
   "metadata": {},
   "outputs": [
    {
     "name": "stdout",
     "output_type": "stream",
     "text": [
      "tensor(97.4100)\n"
     ]
    }
   ],
   "source": [
    "for t in test_correct_mod5:\n",
    "    tst_accu_mod5=t/100\n",
    "    \n",
    "print(tst_accu_mod5)"
   ]
  },
  {
   "cell_type": "code",
   "execution_count": null,
   "id": "ee3afe68",
   "metadata": {},
   "outputs": [],
   "source": []
  },
  {
   "cell_type": "code",
   "execution_count": 63,
   "id": "c5c9bc16",
   "metadata": {},
   "outputs": [],
   "source": [
    "#######################################----------Model-6------------#####################################################################"
   ]
  },
  {
   "cell_type": "code",
   "execution_count": null,
   "id": "d4f4b8ed",
   "metadata": {},
   "outputs": [],
   "source": []
  },
  {
   "cell_type": "code",
   "execution_count": 64,
   "id": "f402f879",
   "metadata": {},
   "outputs": [],
   "source": [
    "#Model6 with 44140 parameters\n",
    "class Model6(nn.Module):\n",
    "    def __init__(self, in_features=784, h1=100, h2=120, out_features=10):\n",
    "        super().__init__()\n",
    "        self.fc1 = nn.Linear(in_features,h1)    \n",
    "        self.fc2 = nn.Linear(h1, h2)\n",
    "        self.out = nn.Linear(h2, out_features)\n",
    "        \n",
    "        \n",
    "    def forward(self, x):\n",
    "        x = F.relu(self.fc1(x))\n",
    "        x = F.relu(self.fc2(x))\n",
    "        x = self.out(x)\n",
    "        return x"
   ]
  },
  {
   "cell_type": "code",
   "execution_count": 65,
   "id": "49c24c8f",
   "metadata": {},
   "outputs": [],
   "source": [
    "model6=Model6()"
   ]
  },
  {
   "cell_type": "code",
   "execution_count": 66,
   "id": "da0ab1a2",
   "metadata": {},
   "outputs": [
    {
     "data": {
      "text/plain": [
       "Model6(\n",
       "  (fc1): Linear(in_features=784, out_features=100, bias=True)\n",
       "  (fc2): Linear(in_features=100, out_features=120, bias=True)\n",
       "  (out): Linear(in_features=120, out_features=10, bias=True)\n",
       ")"
      ]
     },
     "execution_count": 66,
     "metadata": {},
     "output_type": "execute_result"
    }
   ],
   "source": [
    "model6"
   ]
  },
  {
   "cell_type": "code",
   "execution_count": 67,
   "id": "3b1ebc00",
   "metadata": {},
   "outputs": [
    {
     "name": "stdout",
     "output_type": "stream",
     "text": [
      "91830\n"
     ]
    }
   ],
   "source": [
    "model6params=CalcParams(model6)\n",
    "print(model6params)"
   ]
  },
  {
   "cell_type": "code",
   "execution_count": 68,
   "id": "312da79d",
   "metadata": {},
   "outputs": [],
   "source": [
    "criterion6 = nn.CrossEntropyLoss()\n",
    "optimizer6 = torch.optim.Adam(model6.parameters(), lr=0.001)"
   ]
  },
  {
   "cell_type": "code",
   "execution_count": 69,
   "id": "c68f969b",
   "metadata": {},
   "outputs": [],
   "source": [
    "epochs = 30\n",
    "train_correct_mod6 = []\n",
    "test_correct_mod6 = []\n",
    "\n",
    "for i in range(epochs):\n",
    "    train_corr = 0\n",
    "    test_corr = 0\n",
    "    \n",
    "    # Run the training batches\n",
    "    for b, (Xtrain, ytrain) in enumerate(trainLoad):\n",
    "       \n",
    "        ypred = model6(Xtrain.view(500, -1))  \n",
    "        loss = criterion6(ypred, ytrain)\n",
    "\n",
    "        # Tally the number of correct predictions\n",
    "        predicted = torch.max(ypred.data, 1)[1]\n",
    "        batch_corr = (predicted == ytrain).sum()\n",
    "        train_corr += batch_corr\n",
    "        \n",
    "        # Update parameters\n",
    "        optimizer6.zero_grad()\n",
    "        loss.backward()\n",
    "        optimizer6.step()\n",
    "        \n",
    "    # Update train loss & accuracy for the epoch\n",
    "    train_losses_mod6=loss\n",
    "    train_correct_mod6.append(train_corr)\n",
    "        \n",
    "    # Run the testing batches\n",
    "    with torch.no_grad():\n",
    "        for b, (Xtest, ytest) in enumerate(testLoad):\n",
    "\n",
    "            # Apply the model\n",
    "            y_val = model6(Xtest.view(100, -1)) \n",
    "\n",
    "            # Tally the number of correct predictions\n",
    "            predicted = torch.max(y_val.data, 1)[1] \n",
    "            test_corr += (predicted == ytest).sum()\n",
    "    \n",
    "    # Update test loss & accuracy for the epoch\n",
    "    loss = criterion6(y_val, ytest)\n",
    "    test_losses_mod6=loss\n",
    "    test_correct_mod6.append(test_corr)\n",
    "        "
   ]
  },
  {
   "cell_type": "code",
   "execution_count": 70,
   "id": "371acf12",
   "metadata": {},
   "outputs": [],
   "source": [
    "train_losses_mod6 = train_losses_mod6.detach().numpy()"
   ]
  },
  {
   "cell_type": "code",
   "execution_count": 71,
   "id": "1cdd9542",
   "metadata": {},
   "outputs": [
    {
     "name": "stdout",
     "output_type": "stream",
     "text": [
      "tensor(99.8933)\n"
     ]
    }
   ],
   "source": [
    "for t in train_correct_mod6:\n",
    "    trn_accu_mod6=t/600\n",
    "    \n",
    "print(trn_accu_mod6)"
   ]
  },
  {
   "cell_type": "code",
   "execution_count": 72,
   "id": "224c70a4",
   "metadata": {},
   "outputs": [
    {
     "name": "stdout",
     "output_type": "stream",
     "text": [
      "tensor(97.9200)\n"
     ]
    }
   ],
   "source": [
    "for t in test_correct_mod6:\n",
    "    tst_accu_mod6=t/100\n",
    "    \n",
    "print(tst_accu_mod6)"
   ]
  },
  {
   "cell_type": "code",
   "execution_count": null,
   "id": "70085713",
   "metadata": {},
   "outputs": [],
   "source": []
  },
  {
   "cell_type": "code",
   "execution_count": 73,
   "id": "a78e5378",
   "metadata": {},
   "outputs": [],
   "source": [
    "#######################################----------Model-7------------#####################################################################"
   ]
  },
  {
   "cell_type": "code",
   "execution_count": null,
   "id": "e07d22e6",
   "metadata": {},
   "outputs": [],
   "source": []
  },
  {
   "cell_type": "code",
   "execution_count": 74,
   "id": "62ca40f5",
   "metadata": {},
   "outputs": [],
   "source": [
    "#Model7 with 160410 parameters\n",
    "class Model7(nn.Module):\n",
    "    def __init__(self, in_features=784, h1=180, h2=100, out_features=10):\n",
    "        super().__init__()\n",
    "        self.fc1 = nn.Linear(in_features,h1)    \n",
    "        self.fc2 = nn.Linear(h1, h2)\n",
    "        self.out = nn.Linear(h2, out_features)\n",
    "        \n",
    "        \n",
    "    def forward(self, x):\n",
    "        x = F.relu(self.fc1(x))\n",
    "        x = F.relu(self.fc2(x))\n",
    "        x = self.out(x)\n",
    "        return x"
   ]
  },
  {
   "cell_type": "code",
   "execution_count": 75,
   "id": "2d5553e2",
   "metadata": {},
   "outputs": [],
   "source": [
    "model7=Model7()"
   ]
  },
  {
   "cell_type": "code",
   "execution_count": 76,
   "id": "f7297018",
   "metadata": {},
   "outputs": [
    {
     "data": {
      "text/plain": [
       "Model7(\n",
       "  (fc1): Linear(in_features=784, out_features=180, bias=True)\n",
       "  (fc2): Linear(in_features=180, out_features=100, bias=True)\n",
       "  (out): Linear(in_features=100, out_features=10, bias=True)\n",
       ")"
      ]
     },
     "execution_count": 76,
     "metadata": {},
     "output_type": "execute_result"
    }
   ],
   "source": [
    "model7"
   ]
  },
  {
   "cell_type": "code",
   "execution_count": 77,
   "id": "bf0eb4fa",
   "metadata": {},
   "outputs": [
    {
     "name": "stdout",
     "output_type": "stream",
     "text": [
      "160410\n"
     ]
    }
   ],
   "source": [
    "model7params=CalcParams(model7)\n",
    "print(model7params)"
   ]
  },
  {
   "cell_type": "code",
   "execution_count": 78,
   "id": "04321880",
   "metadata": {},
   "outputs": [],
   "source": [
    "criterion7 = nn.CrossEntropyLoss()\n",
    "optimizer7 = torch.optim.Adam(model7.parameters(), lr=0.001)"
   ]
  },
  {
   "cell_type": "code",
   "execution_count": 79,
   "id": "1d46d9c1",
   "metadata": {},
   "outputs": [],
   "source": [
    "epochs = 30\n",
    "train_correct_mod7 = []\n",
    "test_correct_mod7 = []\n",
    "\n",
    "for i in range(epochs):\n",
    "    train_corr = 0\n",
    "    test_corr = 0\n",
    "    \n",
    "    # Run the training batches\n",
    "    for b, (Xtrain, ytrain) in enumerate(trainLoad):\n",
    "       \n",
    "        ypred = model7(Xtrain.view(500, -1))  \n",
    "        loss = criterion7(ypred, ytrain)\n",
    "\n",
    "        # Tally the number of correct predictions\n",
    "        predicted = torch.max(ypred.data, 1)[1]\n",
    "        batch_corr = (predicted == ytrain).sum()\n",
    "        train_corr += batch_corr\n",
    "        \n",
    "        # Update parameters\n",
    "        optimizer7.zero_grad()\n",
    "        loss.backward()\n",
    "        optimizer7.step()\n",
    "        \n",
    "    # Update train loss & accuracy for the epoch\n",
    "    train_losses_mod7=loss\n",
    "    train_correct_mod7.append(train_corr)\n",
    "        \n",
    "    # Run the testing batches\n",
    "    with torch.no_grad():\n",
    "        for b, (Xtest, ytest) in enumerate(testLoad):\n",
    "\n",
    "            # Apply the model\n",
    "            y_val = model7(Xtest.view(100, -1)) \n",
    "\n",
    "            # Tally the number of correct predictions\n",
    "            predicted = torch.max(y_val.data, 1)[1] \n",
    "            test_corr += (predicted == ytest).sum()\n",
    "    \n",
    "    # Update test loss & accuracy for the epoch\n",
    "    loss = criterion7(y_val, ytest)\n",
    "    test_losses_mod7=loss\n",
    "    test_correct_mod7.append(test_corr)\n",
    "        "
   ]
  },
  {
   "cell_type": "code",
   "execution_count": 80,
   "id": "5782a9fb",
   "metadata": {},
   "outputs": [],
   "source": [
    "train_losses_mod7 = train_losses_mod7.detach().numpy()"
   ]
  },
  {
   "cell_type": "code",
   "execution_count": 81,
   "id": "e53ac7fa",
   "metadata": {},
   "outputs": [
    {
     "name": "stdout",
     "output_type": "stream",
     "text": [
      "tensor(99.9883)\n"
     ]
    }
   ],
   "source": [
    "for t in train_correct_mod7:\n",
    "    trn_accu_mod7=t/600\n",
    "    \n",
    "print(trn_accu_mod7)"
   ]
  },
  {
   "cell_type": "code",
   "execution_count": 82,
   "id": "b61542a9",
   "metadata": {},
   "outputs": [
    {
     "name": "stdout",
     "output_type": "stream",
     "text": [
      "tensor(97.9100)\n"
     ]
    }
   ],
   "source": [
    "for t in test_correct_mod7:\n",
    "    tst_accu_mod7=t/100\n",
    "    \n",
    "print(tst_accu_mod7)"
   ]
  },
  {
   "cell_type": "code",
   "execution_count": null,
   "id": "a6f92d2e",
   "metadata": {},
   "outputs": [],
   "source": []
  },
  {
   "cell_type": "code",
   "execution_count": 83,
   "id": "18bdfa21",
   "metadata": {},
   "outputs": [],
   "source": [
    "#######################################----------Model-8------------#####################################################################"
   ]
  },
  {
   "cell_type": "code",
   "execution_count": null,
   "id": "750ff085",
   "metadata": {},
   "outputs": [],
   "source": []
  },
  {
   "cell_type": "code",
   "execution_count": 84,
   "id": "8cd58f55",
   "metadata": {},
   "outputs": [],
   "source": [
    "#Model8 with 396210 parameters\n",
    "class Model8(nn.Module):\n",
    "    def __init__(self, in_features=784, h1=400, h2=200, out_features=10):\n",
    "        super().__init__()\n",
    "        self.fc1 = nn.Linear(in_features,h1)    \n",
    "        self.fc2 = nn.Linear(h1, h2)\n",
    "        self.out = nn.Linear(h2, out_features)\n",
    "        \n",
    "        \n",
    "    def forward(self, x):\n",
    "        x = F.relu(self.fc1(x))\n",
    "        x = F.relu(self.fc2(x))\n",
    "        x = self.out(x)\n",
    "        return x"
   ]
  },
  {
   "cell_type": "code",
   "execution_count": 85,
   "id": "53c646fa",
   "metadata": {},
   "outputs": [],
   "source": [
    "model8=Model8()"
   ]
  },
  {
   "cell_type": "code",
   "execution_count": 86,
   "id": "e097e2d3",
   "metadata": {},
   "outputs": [
    {
     "data": {
      "text/plain": [
       "Model8(\n",
       "  (fc1): Linear(in_features=784, out_features=400, bias=True)\n",
       "  (fc2): Linear(in_features=400, out_features=200, bias=True)\n",
       "  (out): Linear(in_features=200, out_features=10, bias=True)\n",
       ")"
      ]
     },
     "execution_count": 86,
     "metadata": {},
     "output_type": "execute_result"
    }
   ],
   "source": [
    "model8"
   ]
  },
  {
   "cell_type": "code",
   "execution_count": 87,
   "id": "1563afa4",
   "metadata": {},
   "outputs": [
    {
     "name": "stdout",
     "output_type": "stream",
     "text": [
      "396210\n"
     ]
    }
   ],
   "source": [
    "model8params=CalcParams(model8)\n",
    "print(model8params)"
   ]
  },
  {
   "cell_type": "code",
   "execution_count": 88,
   "id": "fb504935",
   "metadata": {},
   "outputs": [],
   "source": [
    "criterion8 = nn.CrossEntropyLoss()\n",
    "optimizer8 = torch.optim.Adam(model8.parameters(), lr=0.001)"
   ]
  },
  {
   "cell_type": "code",
   "execution_count": 89,
   "id": "784864ae",
   "metadata": {},
   "outputs": [],
   "source": [
    "epochs = 30\n",
    "train_correct_mod8 = []\n",
    "test_correct_mod8 = []\n",
    "\n",
    "for i in range(epochs):\n",
    "    train_corr = 0\n",
    "    test_corr = 0\n",
    "    \n",
    "    # Run the training batches\n",
    "    for b, (Xtrain, ytrain) in enumerate(trainLoad):\n",
    "       \n",
    "        ypred = model8(X_train.view(500, -1))  \n",
    "        loss = criterion8(ypred, ytrain)\n",
    "\n",
    "        # Tally the number of correct predictions\n",
    "        predicted = torch.max(ypred.data, 1)[1]\n",
    "        batch_corr = (predicted == ytrain).sum()\n",
    "        train_corr += batch_corr\n",
    "        \n",
    "        # Update parameters\n",
    "        optimizer8.zero_grad()\n",
    "        loss.backward()\n",
    "        optimizer8.step()\n",
    "        \n",
    "    # Update train loss & accuracy for the epoch\n",
    "    train_losses_mod8=loss\n",
    "    train_correct_mod8.append(train_corr)\n",
    "        \n",
    "    # Run the testing batches\n",
    "    with torch.no_grad():\n",
    "        for b, (Xtest, ytest) in enumerate(testLoad):\n",
    "\n",
    "            # Apply the model\n",
    "            y_val = model8(Xtest.view(100, -1)) \n",
    "\n",
    "            # Tally the number of correct predictions\n",
    "            predicted = torch.max(y_val.data, 1)[1] \n",
    "            test_corr += (predicted == ytest).sum()\n",
    "    \n",
    "    # Update test loss & accuracy for the epoch\n",
    "    loss = criterion8(y_val, ytest)\n",
    "    test_losses_mod8=loss\n",
    "    test_correct_mod8.append(test_corr)\n",
    "        "
   ]
  },
  {
   "cell_type": "code",
   "execution_count": 90,
   "id": "7438a376",
   "metadata": {},
   "outputs": [],
   "source": [
    "train_losses_mod8 = train_losses_mod8.detach().numpy()"
   ]
  },
  {
   "cell_type": "code",
   "execution_count": 91,
   "id": "2d000f79",
   "metadata": {},
   "outputs": [
    {
     "name": "stdout",
     "output_type": "stream",
     "text": [
      "tensor(11.2367)\n"
     ]
    }
   ],
   "source": [
    "for t in train_correct_mod8:\n",
    "    trn_accu_mod8=t/600\n",
    "    \n",
    "print(trn_accu_mod8)"
   ]
  },
  {
   "cell_type": "code",
   "execution_count": 92,
   "id": "04a3e444",
   "metadata": {},
   "outputs": [
    {
     "name": "stdout",
     "output_type": "stream",
     "text": [
      "tensor(11.3500)\n"
     ]
    }
   ],
   "source": [
    "for t in test_correct_mod8:\n",
    "    tst_accu_mod8=t/100\n",
    "    \n",
    "print(tst_accu_mod8)"
   ]
  },
  {
   "cell_type": "code",
   "execution_count": null,
   "id": "c7eb642c",
   "metadata": {},
   "outputs": [],
   "source": []
  },
  {
   "cell_type": "code",
   "execution_count": 93,
   "id": "f3608880",
   "metadata": {},
   "outputs": [],
   "source": [
    "#######################################----------Model-9------------#####################################################################"
   ]
  },
  {
   "cell_type": "code",
   "execution_count": null,
   "id": "00de5817",
   "metadata": {},
   "outputs": [],
   "source": []
  },
  {
   "cell_type": "code",
   "execution_count": 94,
   "id": "8a24b010",
   "metadata": {},
   "outputs": [],
   "source": [
    "#Model9 with 654310 parameters\n",
    "class Model9(nn.Module):\n",
    "    def __init__(self, in_features=784, h1=600, h2=300, out_features=10):\n",
    "        super().__init__()\n",
    "        self.fc1 = nn.Linear(in_features,h1)    \n",
    "        self.fc2 = nn.Linear(h1, h2)\n",
    "        self.out = nn.Linear(h2, out_features)\n",
    "        \n",
    "        \n",
    "    def forward(self, x):\n",
    "        x = F.relu(self.fc1(x))\n",
    "        x = F.relu(self.fc2(x))\n",
    "        x = self.out(x)\n",
    "        return x"
   ]
  },
  {
   "cell_type": "code",
   "execution_count": 95,
   "id": "05fff889",
   "metadata": {},
   "outputs": [],
   "source": [
    "model9=Model9()"
   ]
  },
  {
   "cell_type": "code",
   "execution_count": 96,
   "id": "63911964",
   "metadata": {},
   "outputs": [
    {
     "data": {
      "text/plain": [
       "Model9(\n",
       "  (fc1): Linear(in_features=784, out_features=600, bias=True)\n",
       "  (fc2): Linear(in_features=600, out_features=300, bias=True)\n",
       "  (out): Linear(in_features=300, out_features=10, bias=True)\n",
       ")"
      ]
     },
     "execution_count": 96,
     "metadata": {},
     "output_type": "execute_result"
    }
   ],
   "source": [
    "model9"
   ]
  },
  {
   "cell_type": "code",
   "execution_count": 97,
   "id": "25a597a4",
   "metadata": {},
   "outputs": [
    {
     "name": "stdout",
     "output_type": "stream",
     "text": [
      "654310\n"
     ]
    }
   ],
   "source": [
    "model9params=CalcParams(model9)\n",
    "print(model9params)"
   ]
  },
  {
   "cell_type": "code",
   "execution_count": 98,
   "id": "2580e58d",
   "metadata": {},
   "outputs": [],
   "source": [
    "criterion9 = nn.CrossEntropyLoss()\n",
    "optimizer9 = torch.optim.Adam(model9.parameters(), lr=0.001)"
   ]
  },
  {
   "cell_type": "code",
   "execution_count": 99,
   "id": "514016de",
   "metadata": {},
   "outputs": [],
   "source": [
    "epochs = 30\n",
    "train_correct_mod9 = []\n",
    "test_correct_mod9 = []\n",
    "\n",
    "for i in range(epochs):\n",
    "    train_corr = 0\n",
    "    test_corr = 0\n",
    "    # Run the training batches\n",
    "    for b, (Xtrain, ytrain) in enumerate(trainLoad):\n",
    "     \n",
    "        ypred = model9(Xtrain.view(500, -1))  \n",
    "        loss = criterion9(ypred, ytrain)\n",
    "\n",
    "        # Tally the number of correct predictions\n",
    "        predicted = torch.max(ypred.data, 1)[1]\n",
    "        batch_corr = (predicted == ytrain).sum()\n",
    "        train_corr += batch_corr\n",
    "        \n",
    "        # Update parameters\n",
    "        optimizer9.zero_grad()\n",
    "        loss.backward()\n",
    "        optimizer9.step()\n",
    "        \n",
    "    # Update train loss & accuracy for the epoch\n",
    "    train_losses_mod9=loss\n",
    "    train_correct_mod9.append(train_corr)\n",
    "        \n",
    "    # Run the testing batches\n",
    "    with torch.no_grad():\n",
    "        for b, (Xtest, ytest) in enumerate(testLoad):\n",
    "\n",
    "            # Apply the model\n",
    "            y_val = model9(Xtest.view(100, -1)) \n",
    "\n",
    "            # Tally the number of correct predictions\n",
    "            predicted = torch.max(y_val.data, 1)[1] \n",
    "            test_corr += (predicted == ytest).sum()\n",
    "    \n",
    "    # Update test loss & accuracy for the epoch\n",
    "    loss = criterion9(y_val, ytest)\n",
    "    test_losses_mod9=loss\n",
    "    test_correct_mod9.append(test_corr)\n",
    "        "
   ]
  },
  {
   "cell_type": "code",
   "execution_count": 100,
   "id": "a01dae90",
   "metadata": {},
   "outputs": [],
   "source": [
    "train_losses_mod9 = train_losses_mod9.detach().numpy()"
   ]
  },
  {
   "cell_type": "code",
   "execution_count": 101,
   "id": "2b2c0247",
   "metadata": {},
   "outputs": [
    {
     "name": "stdout",
     "output_type": "stream",
     "text": [
      "tensor(100.)\n"
     ]
    }
   ],
   "source": [
    "for t in train_correct_mod9:\n",
    "    trn_accu_mod9=t/600\n",
    "    \n",
    "print(trn_accu_mod9)"
   ]
  },
  {
   "cell_type": "code",
   "execution_count": 102,
   "id": "5dd85de8",
   "metadata": {},
   "outputs": [
    {
     "name": "stdout",
     "output_type": "stream",
     "text": [
      "tensor(98.3600)\n"
     ]
    }
   ],
   "source": [
    "for t in test_correct_mod9:\n",
    "    tst_accu_mod9=t/100\n",
    "    \n",
    "print(tst_accu_mod9)"
   ]
  },
  {
   "cell_type": "code",
   "execution_count": null,
   "id": "305564a8",
   "metadata": {},
   "outputs": [],
   "source": []
  },
  {
   "cell_type": "code",
   "execution_count": 103,
   "id": "efedd78d",
   "metadata": {},
   "outputs": [],
   "source": [
    "#######################################----------Model-10------------#####################################################################"
   ]
  },
  {
   "cell_type": "code",
   "execution_count": null,
   "id": "94366a0b",
   "metadata": {},
   "outputs": [],
   "source": []
  },
  {
   "cell_type": "code",
   "execution_count": 104,
   "id": "8e765abb",
   "metadata": {},
   "outputs": [],
   "source": [
    "#Model10 with 952410 parameters\n",
    "class Model10(nn.Module):\n",
    "    def __init__(self, in_features=784, h1=800, h2=400, out_features=10):\n",
    "        super().__init__()\n",
    "        self.fc1 = nn.Linear(in_features,h1)    \n",
    "        self.fc2 = nn.Linear(h1, h2)\n",
    "        self.out = nn.Linear(h2, out_features)\n",
    "        \n",
    "        \n",
    "    def forward(self, x):\n",
    "        x = F.relu(self.fc1(x))\n",
    "        x = F.relu(self.fc2(x))\n",
    "        x = self.out(x)\n",
    "        return x"
   ]
  },
  {
   "cell_type": "code",
   "execution_count": 105,
   "id": "648c3140",
   "metadata": {},
   "outputs": [],
   "source": [
    "model10=Model10()"
   ]
  },
  {
   "cell_type": "code",
   "execution_count": 106,
   "id": "ae49421c",
   "metadata": {},
   "outputs": [
    {
     "data": {
      "text/plain": [
       "Model10(\n",
       "  (fc1): Linear(in_features=784, out_features=800, bias=True)\n",
       "  (fc2): Linear(in_features=800, out_features=400, bias=True)\n",
       "  (out): Linear(in_features=400, out_features=10, bias=True)\n",
       ")"
      ]
     },
     "execution_count": 106,
     "metadata": {},
     "output_type": "execute_result"
    }
   ],
   "source": [
    "model10"
   ]
  },
  {
   "cell_type": "code",
   "execution_count": 107,
   "id": "9abc5e68",
   "metadata": {},
   "outputs": [
    {
     "name": "stdout",
     "output_type": "stream",
     "text": [
      "952410\n"
     ]
    }
   ],
   "source": [
    "model10params=CalcParams(model10)\n",
    "print(model10params)"
   ]
  },
  {
   "cell_type": "code",
   "execution_count": 108,
   "id": "0c7ae8e9",
   "metadata": {},
   "outputs": [],
   "source": [
    "criterion10 = nn.CrossEntropyLoss()\n",
    "optimizer10 = torch.optim.Adam(model10.parameters(), lr=0.001)"
   ]
  },
  {
   "cell_type": "code",
   "execution_count": 110,
   "id": "f5286194",
   "metadata": {},
   "outputs": [],
   "source": [
    "epochs = 30\n",
    "train_correct_mod10 = []\n",
    "test_correct_mod10 = []\n",
    "\n",
    "for i in range(epochs):\n",
    "    train_corr = 0\n",
    "    test_corr = 0\n",
    "    # Run the training batches\n",
    "    for b, (Xtrain, ytrain) in enumerate(trainLoad):\n",
    "      \n",
    "        ypred = model10(X_train.view(500, -1))  \n",
    "        loss = criterion10(ypred, ytrain)\n",
    "\n",
    "        # Tally the number of correct predictions\n",
    "        predicted = torch.max(ypred.data, 1)[1]\n",
    "        batch_corr = (predicted == ytrain).sum()\n",
    "        train_corr += batch_corr\n",
    "        \n",
    "        # Update parameters\n",
    "        optimizer10.zero_grad()\n",
    "        loss.backward()\n",
    "        optimizer10.step()\n",
    "        \n",
    "    # Update train loss & accuracy for the epoch\n",
    "    train_losses_mod10=loss\n",
    "    train_correct_mod10.append(train_corr)\n",
    "        \n",
    "    # Run the testing batches\n",
    "    with torch.no_grad():\n",
    "        for b, (Xtest, ytest) in enumerate(testLoad):\n",
    "\n",
    "            # Apply the model\n",
    "            y_val = model10(Xtest.view(100, -1)) \n",
    "\n",
    "            # Tally the number of correct predictions\n",
    "            predicted = torch.max(y_val.data, 1)[1] \n",
    "            test_corr += (predicted == ytest).sum()\n",
    "    \n",
    "    # Update test loss & accuracy for the epoch\n",
    "    loss = criterion10(y_val, ytest)\n",
    "    test_losses_mod10=loss\n",
    "    test_correct_mod10.append(test_corr)\n",
    "        "
   ]
  },
  {
   "cell_type": "code",
   "execution_count": 111,
   "id": "556bf4a3",
   "metadata": {},
   "outputs": [],
   "source": [
    "train_losses_mod10 = train_losses_mod10.detach().numpy()"
   ]
  },
  {
   "cell_type": "code",
   "execution_count": 112,
   "id": "cf41f249",
   "metadata": {},
   "outputs": [
    {
     "name": "stdout",
     "output_type": "stream",
     "text": [
      "tensor(11.2367)\n"
     ]
    }
   ],
   "source": [
    "for t in train_correct_mod10:\n",
    "    trn_accu_mod10=t/600\n",
    "    \n",
    "print(trn_accu_mod10)"
   ]
  },
  {
   "cell_type": "code",
   "execution_count": 113,
   "id": "2f2db669",
   "metadata": {},
   "outputs": [
    {
     "name": "stdout",
     "output_type": "stream",
     "text": [
      "tensor(11.3500)\n"
     ]
    }
   ],
   "source": [
    "for t in test_correct_mod10:\n",
    "    tst_accu_mod10=t/100\n",
    "    \n",
    "print(tst_accu_mod10)"
   ]
  },
  {
   "cell_type": "code",
   "execution_count": null,
   "id": "6246e15f",
   "metadata": {},
   "outputs": [],
   "source": []
  },
  {
   "cell_type": "code",
   "execution_count": null,
   "id": "fb75ac11",
   "metadata": {},
   "outputs": [],
   "source": []
  },
  {
   "cell_type": "code",
   "execution_count": 114,
   "id": "d4297045",
   "metadata": {},
   "outputs": [
    {
     "data": {
      "image/png": "[encoded data removed]",
      "text/plain": [
       "<Figure size 640x480 with 1 Axes>"
      ]
     },
     "metadata": {},
     "output_type": "display_data"
    }
   ],
   "source": [
    "#Training Loss\n",
    "plt.scatter(model1params, train_losses_mod1,c='b',label='Train')\n",
    "plt.scatter(model2params, train_losses_mod2,c='b')\n",
    "plt.scatter(model3params, train_losses_mod3,c='b')\n",
    "plt.scatter(model4params, train_losses_mod4,c='b')\n",
    "plt.scatter(model5params, train_losses_mod5,c='b')\n",
    "plt.scatter(model6params, train_losses_mod6,c='b')\n",
    "plt.scatter(model7params, train_losses_mod7,c='b')\n",
    "plt.scatter(model8params, train_losses_mod8,c='b')\n",
    "plt.scatter(model9params, train_losses_mod9,c='b')\n",
    "plt.scatter(model10params, train_losses_mod10,c='b')\n",
    "\n",
    "#Testing Loss\n",
    "\n",
    "plt.scatter(model1params, test_losses_mod1,c='r',label='Test')\n",
    "plt.scatter(model2params, test_losses_mod2,c='r')\n",
    "plt.scatter(model3params, test_losses_mod3,c='r')\n",
    "plt.scatter(model4params, test_losses_mod4,c='r')\n",
    "plt.scatter(model5params, test_losses_mod5,c='r')\n",
    "plt.scatter(model6params, test_losses_mod6,c='r')\n",
    "plt.scatter(model7params, test_losses_mod7,c='r')\n",
    "plt.scatter(model8params, test_losses_mod8,c='r')\n",
    "plt.scatter(model9params, test_losses_mod9,c='r')\n",
    "plt.scatter(model10params, test_losses_mod10,c='r')\n",
    "\n",
    "plt.title(\"Loss of Models\")\n",
    "plt.xlabel(\"Number of Parameters\")\n",
    "plt.ylabel(\"Loss\")\n",
    "plt.legend(loc=\"upper right\")\n",
    "plt.show()"
   ]
  },
  {
   "cell_type": "code",
   "execution_count": null,
   "id": "f3ffc706",
   "metadata": {},
   "outputs": [],
   "source": []
  },
  {
   "cell_type": "code",
   "execution_count": 115,
   "id": "7ab50e77",
   "metadata": {},
   "outputs": [
    {
     "data": {
      "image/png": "[encoded data removed]",
      "text/plain": [
       "<Figure size 640x480 with 1 Axes>"
      ]
     },
     "metadata": {},
     "output_type": "display_data"
    }
   ],
   "source": [
    "#Training Accuracy\n",
    "plt.scatter(model1params, trn_accu_mod1,c='b',label='Train')\n",
    "plt.scatter(model2params, trn_accu_mod2,c='b')\n",
    "plt.scatter(model3params, trn_accu_mod3,c='b')\n",
    "plt.scatter(model4params, trn_accu_mod4,c='b')\n",
    "plt.scatter(model5params, trn_accu_mod5,c='b')\n",
    "plt.scatter(model6params, trn_accu_mod6,c='b')\n",
    "plt.scatter(model7params, trn_accu_mod7,c='b')\n",
    "plt.scatter(model8params, trn_accu_mod8,c='b')\n",
    "plt.scatter(model9params, trn_accu_mod9,c='b')\n",
    "plt.scatter(model10params, trn_accu_mod10,c='b')\n",
    "\n",
    "#Testing Accuracy\n",
    "\n",
    "plt.scatter(model1params, tst_accu_mod1,c='r',label='Test')\n",
    "plt.scatter(model2params, tst_accu_mod2,c='r')\n",
    "plt.scatter(model3params, tst_accu_mod3,c='r')\n",
    "plt.scatter(model4params, tst_accu_mod4,c='r')\n",
    "plt.scatter(model5params, tst_accu_mod5,c='r')\n",
    "plt.scatter(model6params, tst_accu_mod6,c='r')\n",
    "plt.scatter(model7params, tst_accu_mod7,c='r')\n",
    "plt.scatter(model8params, tst_accu_mod8,c='r')\n",
    "plt.scatter(model9params, tst_accu_mod9,c='r')\n",
    "plt.scatter(model10params, tst_accu_mod10,c='r')\n",
    "\n",
    "plt.title(\"Models Accuracy\")\n",
    "plt.xlabel(\"Number of Parameters\")\n",
    "plt.ylabel(\"Accuracy\")\n",
    "plt.legend(loc=\"upper right\")\n",
    "plt.show()"
   ]
  },
  {
   "cell_type": "code",
   "execution_count": null,
   "id": "e6cf4b2a",
   "metadata": {},
   "outputs": [],
   "source": []
  }
 ],
 "metadata": {
  "kernelspec": {
   "display_name": "Python 3 (ipykernel)",
   "language": "python",
   "name": "python3"
  },
  "language_info": {
   "codemirror_mode": {
    "name": "ipython",
    "version": 3
   },
   "file_extension": ".py",
   "mimetype": "text/x-python",
   "name": "python",
   "nbconvert_exporter": "python",
   "pygments_lexer": "ipython3",
   "version": "3.9.13"
  }
 },
 "nbformat": 4,
 "nbformat_minor": 5
}
